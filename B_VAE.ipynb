{
 "cells": [
  {
   "cell_type": "code",
   "source": [
    "# from google.colab import drive\n",
    "# drive.mount('/content/drive')"
   ],
   "metadata": {
    "colab": {
     "base_uri": "https://localhost:8080/"
    },
    "id": "SfaVuMnEPkqX",
    "outputId": "e3ee43fc-0afc-411d-bb67-08efa94883a1"
   },
   "id": "SfaVuMnEPkqX",
   "execution_count": 1,
   "outputs": [
    {
     "output_type": "stream",
     "name": "stdout",
     "text": [
      "Mounted at /content/drive\n"
     ]
    }
   ]
  },
  {
   "cell_type": "code",
   "source": [
    "!pip install open3d"
   ],
   "metadata": {
    "colab": {
     "base_uri": "https://localhost:8080/"
    },
    "id": "iqBagabUPsg-",
    "outputId": "1e7b57be-bbd9-4d2d-b22f-d711ed3ac26b"
   },
   "id": "iqBagabUPsg-",
   "execution_count": 2,
   "outputs": [
    {
     "output_type": "stream",
     "name": "stdout",
     "text": [
      "Collecting open3d\n",
      "  Downloading open3d-0.18.0-cp310-cp310-manylinux_2_27_x86_64.whl.metadata (4.2 kB)\n",
      "Requirement already satisfied: numpy>=1.18.0 in /usr/local/lib/python3.10/dist-packages (from open3d) (1.26.4)\n",
      "Collecting dash>=2.6.0 (from open3d)\n",
      "  Downloading dash-2.18.2-py3-none-any.whl.metadata (10 kB)\n",
      "Requirement already satisfied: werkzeug>=2.2.3 in /usr/local/lib/python3.10/dist-packages (from open3d) (3.1.3)\n",
      "Requirement already satisfied: nbformat>=5.7.0 in /usr/local/lib/python3.10/dist-packages (from open3d) (5.10.4)\n",
      "Collecting configargparse (from open3d)\n",
      "  Downloading ConfigArgParse-1.7-py3-none-any.whl.metadata (23 kB)\n",
      "Collecting ipywidgets>=8.0.4 (from open3d)\n",
      "  Downloading ipywidgets-8.1.5-py3-none-any.whl.metadata (2.3 kB)\n",
      "Collecting addict (from open3d)\n",
      "  Downloading addict-2.4.0-py3-none-any.whl.metadata (1.0 kB)\n",
      "Requirement already satisfied: pillow>=9.3.0 in /usr/local/lib/python3.10/dist-packages (from open3d) (11.0.0)\n",
      "Requirement already satisfied: matplotlib>=3 in /usr/local/lib/python3.10/dist-packages (from open3d) (3.8.0)\n",
      "Requirement already satisfied: pandas>=1.0 in /usr/local/lib/python3.10/dist-packages (from open3d) (2.2.2)\n",
      "Requirement already satisfied: pyyaml>=5.4.1 in /usr/local/lib/python3.10/dist-packages (from open3d) (6.0.2)\n",
      "Requirement already satisfied: scikit-learn>=0.21 in /usr/local/lib/python3.10/dist-packages (from open3d) (1.6.0)\n",
      "Requirement already satisfied: tqdm in /usr/local/lib/python3.10/dist-packages (from open3d) (4.67.1)\n",
      "Collecting pyquaternion (from open3d)\n",
      "  Downloading pyquaternion-0.9.9-py3-none-any.whl.metadata (1.4 kB)\n",
      "Collecting Flask<3.1,>=1.0.4 (from dash>=2.6.0->open3d)\n",
      "  Downloading flask-3.0.3-py3-none-any.whl.metadata (3.2 kB)\n",
      "Collecting werkzeug>=2.2.3 (from open3d)\n",
      "  Downloading werkzeug-3.0.6-py3-none-any.whl.metadata (3.7 kB)\n",
      "Requirement already satisfied: plotly>=5.0.0 in /usr/local/lib/python3.10/dist-packages (from dash>=2.6.0->open3d) (5.24.1)\n",
      "Collecting dash-html-components==2.0.0 (from dash>=2.6.0->open3d)\n",
      "  Downloading dash_html_components-2.0.0-py3-none-any.whl.metadata (3.8 kB)\n",
      "Collecting dash-core-components==2.0.0 (from dash>=2.6.0->open3d)\n",
      "  Downloading dash_core_components-2.0.0-py3-none-any.whl.metadata (2.9 kB)\n",
      "Collecting dash-table==5.0.0 (from dash>=2.6.0->open3d)\n",
      "  Downloading dash_table-5.0.0-py3-none-any.whl.metadata (2.4 kB)\n",
      "Requirement already satisfied: importlib-metadata in /usr/local/lib/python3.10/dist-packages (from dash>=2.6.0->open3d) (8.5.0)\n",
      "Requirement already satisfied: typing-extensions>=4.1.1 in /usr/local/lib/python3.10/dist-packages (from dash>=2.6.0->open3d) (4.12.2)\n",
      "Requirement already satisfied: requests in /usr/local/lib/python3.10/dist-packages (from dash>=2.6.0->open3d) (2.32.3)\n",
      "Collecting retrying (from dash>=2.6.0->open3d)\n",
      "  Downloading retrying-1.3.4-py3-none-any.whl.metadata (6.9 kB)\n",
      "Requirement already satisfied: nest-asyncio in /usr/local/lib/python3.10/dist-packages (from dash>=2.6.0->open3d) (1.6.0)\n",
      "Requirement already satisfied: setuptools in /usr/local/lib/python3.10/dist-packages (from dash>=2.6.0->open3d) (75.1.0)\n",
      "Collecting comm>=0.1.3 (from ipywidgets>=8.0.4->open3d)\n",
      "  Downloading comm-0.2.2-py3-none-any.whl.metadata (3.7 kB)\n",
      "Requirement already satisfied: ipython>=6.1.0 in /usr/local/lib/python3.10/dist-packages (from ipywidgets>=8.0.4->open3d) (7.34.0)\n",
      "Requirement already satisfied: traitlets>=4.3.1 in /usr/local/lib/python3.10/dist-packages (from ipywidgets>=8.0.4->open3d) (5.7.1)\n",
      "Collecting widgetsnbextension~=4.0.12 (from ipywidgets>=8.0.4->open3d)\n",
      "  Downloading widgetsnbextension-4.0.13-py3-none-any.whl.metadata (1.6 kB)\n",
      "Requirement already satisfied: jupyterlab-widgets~=3.0.12 in /usr/local/lib/python3.10/dist-packages (from ipywidgets>=8.0.4->open3d) (3.0.13)\n",
      "Requirement already satisfied: contourpy>=1.0.1 in /usr/local/lib/python3.10/dist-packages (from matplotlib>=3->open3d) (1.3.1)\n",
      "Requirement already satisfied: cycler>=0.10 in /usr/local/lib/python3.10/dist-packages (from matplotlib>=3->open3d) (0.12.1)\n",
      "Requirement already satisfied: fonttools>=4.22.0 in /usr/local/lib/python3.10/dist-packages (from matplotlib>=3->open3d) (4.55.3)\n",
      "Requirement already satisfied: kiwisolver>=1.0.1 in /usr/local/lib/python3.10/dist-packages (from matplotlib>=3->open3d) (1.4.7)\n",
      "Requirement already satisfied: packaging>=20.0 in /usr/local/lib/python3.10/dist-packages (from matplotlib>=3->open3d) (24.2)\n",
      "Requirement already satisfied: pyparsing>=2.3.1 in /usr/local/lib/python3.10/dist-packages (from matplotlib>=3->open3d) (3.2.0)\n",
      "Requirement already satisfied: python-dateutil>=2.7 in /usr/local/lib/python3.10/dist-packages (from matplotlib>=3->open3d) (2.8.2)\n",
      "Requirement already satisfied: fastjsonschema>=2.15 in /usr/local/lib/python3.10/dist-packages (from nbformat>=5.7.0->open3d) (2.21.1)\n",
      "Requirement already satisfied: jsonschema>=2.6 in /usr/local/lib/python3.10/dist-packages (from nbformat>=5.7.0->open3d) (4.23.0)\n",
      "Requirement already satisfied: jupyter-core!=5.0.*,>=4.12 in /usr/local/lib/python3.10/dist-packages (from nbformat>=5.7.0->open3d) (5.7.2)\n",
      "Requirement already satisfied: pytz>=2020.1 in /usr/local/lib/python3.10/dist-packages (from pandas>=1.0->open3d) (2024.2)\n",
      "Requirement already satisfied: tzdata>=2022.7 in /usr/local/lib/python3.10/dist-packages (from pandas>=1.0->open3d) (2024.2)\n",
      "Requirement already satisfied: scipy>=1.6.0 in /usr/local/lib/python3.10/dist-packages (from scikit-learn>=0.21->open3d) (1.13.1)\n",
      "Requirement already satisfied: joblib>=1.2.0 in /usr/local/lib/python3.10/dist-packages (from scikit-learn>=0.21->open3d) (1.4.2)\n",
      "Requirement already satisfied: threadpoolctl>=3.1.0 in /usr/local/lib/python3.10/dist-packages (from scikit-learn>=0.21->open3d) (3.5.0)\n",
      "Requirement already satisfied: MarkupSafe>=2.1.1 in /usr/local/lib/python3.10/dist-packages (from werkzeug>=2.2.3->open3d) (3.0.2)\n",
      "Requirement already satisfied: Jinja2>=3.1.2 in /usr/local/lib/python3.10/dist-packages (from Flask<3.1,>=1.0.4->dash>=2.6.0->open3d) (3.1.4)\n",
      "Requirement already satisfied: itsdangerous>=2.1.2 in /usr/local/lib/python3.10/dist-packages (from Flask<3.1,>=1.0.4->dash>=2.6.0->open3d) (2.2.0)\n",
      "Requirement already satisfied: click>=8.1.3 in /usr/local/lib/python3.10/dist-packages (from Flask<3.1,>=1.0.4->dash>=2.6.0->open3d) (8.1.7)\n",
      "Requirement already satisfied: blinker>=1.6.2 in /usr/local/lib/python3.10/dist-packages (from Flask<3.1,>=1.0.4->dash>=2.6.0->open3d) (1.9.0)\n",
      "Collecting jedi>=0.16 (from ipython>=6.1.0->ipywidgets>=8.0.4->open3d)\n",
      "  Downloading jedi-0.19.2-py2.py3-none-any.whl.metadata (22 kB)\n",
      "Requirement already satisfied: decorator in /usr/local/lib/python3.10/dist-packages (from ipython>=6.1.0->ipywidgets>=8.0.4->open3d) (4.4.2)\n",
      "Requirement already satisfied: pickleshare in /usr/local/lib/python3.10/dist-packages (from ipython>=6.1.0->ipywidgets>=8.0.4->open3d) (0.7.5)\n",
      "Requirement already satisfied: prompt-toolkit!=3.0.0,!=3.0.1,<3.1.0,>=2.0.0 in /usr/local/lib/python3.10/dist-packages (from ipython>=6.1.0->ipywidgets>=8.0.4->open3d) (3.0.48)\n",
      "Requirement already satisfied: pygments in /usr/local/lib/python3.10/dist-packages (from ipython>=6.1.0->ipywidgets>=8.0.4->open3d) (2.18.0)\n",
      "Requirement already satisfied: backcall in /usr/local/lib/python3.10/dist-packages (from ipython>=6.1.0->ipywidgets>=8.0.4->open3d) (0.2.0)\n",
      "Requirement already satisfied: matplotlib-inline in /usr/local/lib/python3.10/dist-packages (from ipython>=6.1.0->ipywidgets>=8.0.4->open3d) (0.1.7)\n",
      "Requirement already satisfied: pexpect>4.3 in /usr/local/lib/python3.10/dist-packages (from ipython>=6.1.0->ipywidgets>=8.0.4->open3d) (4.9.0)\n",
      "Requirement already satisfied: attrs>=22.2.0 in /usr/local/lib/python3.10/dist-packages (from jsonschema>=2.6->nbformat>=5.7.0->open3d) (24.3.0)\n",
      "Requirement already satisfied: jsonschema-specifications>=2023.03.6 in /usr/local/lib/python3.10/dist-packages (from jsonschema>=2.6->nbformat>=5.7.0->open3d) (2024.10.1)\n",
      "Requirement already satisfied: referencing>=0.28.4 in /usr/local/lib/python3.10/dist-packages (from jsonschema>=2.6->nbformat>=5.7.0->open3d) (0.35.1)\n",
      "Requirement already satisfied: rpds-py>=0.7.1 in /usr/local/lib/python3.10/dist-packages (from jsonschema>=2.6->nbformat>=5.7.0->open3d) (0.22.3)\n",
      "Requirement already satisfied: platformdirs>=2.5 in /usr/local/lib/python3.10/dist-packages (from jupyter-core!=5.0.*,>=4.12->nbformat>=5.7.0->open3d) (4.3.6)\n",
      "Requirement already satisfied: tenacity>=6.2.0 in /usr/local/lib/python3.10/dist-packages (from plotly>=5.0.0->dash>=2.6.0->open3d) (9.0.0)\n",
      "Requirement already satisfied: six>=1.5 in /usr/local/lib/python3.10/dist-packages (from python-dateutil>=2.7->matplotlib>=3->open3d) (1.17.0)\n",
      "Requirement already satisfied: zipp>=3.20 in /usr/local/lib/python3.10/dist-packages (from importlib-metadata->dash>=2.6.0->open3d) (3.21.0)\n",
      "Requirement already satisfied: charset-normalizer<4,>=2 in /usr/local/lib/python3.10/dist-packages (from requests->dash>=2.6.0->open3d) (3.4.0)\n",
      "Requirement already satisfied: idna<4,>=2.5 in /usr/local/lib/python3.10/dist-packages (from requests->dash>=2.6.0->open3d) (3.10)\n",
      "Requirement already satisfied: urllib3<3,>=1.21.1 in /usr/local/lib/python3.10/dist-packages (from requests->dash>=2.6.0->open3d) (2.2.3)\n",
      "Requirement already satisfied: certifi>=2017.4.17 in /usr/local/lib/python3.10/dist-packages (from requests->dash>=2.6.0->open3d) (2024.12.14)\n",
      "Requirement already satisfied: parso<0.9.0,>=0.8.4 in /usr/local/lib/python3.10/dist-packages (from jedi>=0.16->ipython>=6.1.0->ipywidgets>=8.0.4->open3d) (0.8.4)\n",
      "Requirement already satisfied: ptyprocess>=0.5 in /usr/local/lib/python3.10/dist-packages (from pexpect>4.3->ipython>=6.1.0->ipywidgets>=8.0.4->open3d) (0.7.0)\n",
      "Requirement already satisfied: wcwidth in /usr/local/lib/python3.10/dist-packages (from prompt-toolkit!=3.0.0,!=3.0.1,<3.1.0,>=2.0.0->ipython>=6.1.0->ipywidgets>=8.0.4->open3d) (0.2.13)\n",
      "Downloading open3d-0.18.0-cp310-cp310-manylinux_2_27_x86_64.whl (399.7 MB)\n",
      "\u001B[2K   \u001B[90m━━━━━━━━━━━━━━━━━━━━━━━━━━━━━━━━━━━━━━━━\u001B[0m \u001B[32m399.7/399.7 MB\u001B[0m \u001B[31m2.2 MB/s\u001B[0m eta \u001B[36m0:00:00\u001B[0m\n",
      "\u001B[?25hDownloading dash-2.18.2-py3-none-any.whl (7.8 MB)\n",
      "\u001B[2K   \u001B[90m━━━━━━━━━━━━━━━━━━━━━━━━━━━━━━━━━━━━━━━━\u001B[0m \u001B[32m7.8/7.8 MB\u001B[0m \u001B[31m86.1 MB/s\u001B[0m eta \u001B[36m0:00:00\u001B[0m\n",
      "\u001B[?25hDownloading dash_core_components-2.0.0-py3-none-any.whl (3.8 kB)\n",
      "Downloading dash_html_components-2.0.0-py3-none-any.whl (4.1 kB)\n",
      "Downloading dash_table-5.0.0-py3-none-any.whl (3.9 kB)\n",
      "Downloading ipywidgets-8.1.5-py3-none-any.whl (139 kB)\n",
      "\u001B[2K   \u001B[90m━━━━━━━━━━━━━━━━━━━━━━━━━━━━━━━━━━━━━━━━\u001B[0m \u001B[32m139.8/139.8 kB\u001B[0m \u001B[31m14.5 MB/s\u001B[0m eta \u001B[36m0:00:00\u001B[0m\n",
      "\u001B[?25hDownloading werkzeug-3.0.6-py3-none-any.whl (227 kB)\n",
      "\u001B[2K   \u001B[90m━━━━━━━━━━━━━━━━━━━━━━━━━━━━━━━━━━━━━━━━\u001B[0m \u001B[32m228.0/228.0 kB\u001B[0m \u001B[31m24.8 MB/s\u001B[0m eta \u001B[36m0:00:00\u001B[0m\n",
      "\u001B[?25hDownloading addict-2.4.0-py3-none-any.whl (3.8 kB)\n",
      "Downloading ConfigArgParse-1.7-py3-none-any.whl (25 kB)\n",
      "Downloading pyquaternion-0.9.9-py3-none-any.whl (14 kB)\n",
      "Downloading comm-0.2.2-py3-none-any.whl (7.2 kB)\n",
      "Downloading flask-3.0.3-py3-none-any.whl (101 kB)\n",
      "\u001B[2K   \u001B[90m━━━━━━━━━━━━━━━━━━━━━━━━━━━━━━━━━━━━━━━━\u001B[0m \u001B[32m101.7/101.7 kB\u001B[0m \u001B[31m9.6 MB/s\u001B[0m eta \u001B[36m0:00:00\u001B[0m\n",
      "\u001B[?25hDownloading widgetsnbextension-4.0.13-py3-none-any.whl (2.3 MB)\n",
      "\u001B[2K   \u001B[90m━━━━━━━━━━━━━━━━━━━━━━━━━━━━━━━━━━━━━━━━\u001B[0m \u001B[32m2.3/2.3 MB\u001B[0m \u001B[31m71.3 MB/s\u001B[0m eta \u001B[36m0:00:00\u001B[0m\n",
      "\u001B[?25hDownloading retrying-1.3.4-py3-none-any.whl (11 kB)\n",
      "Downloading jedi-0.19.2-py2.py3-none-any.whl (1.6 MB)\n",
      "\u001B[2K   \u001B[90m━━━━━━━━━━━━━━━━━━━━━━━━━━━━━━━━━━━━━━━━\u001B[0m \u001B[32m1.6/1.6 MB\u001B[0m \u001B[31m78.2 MB/s\u001B[0m eta \u001B[36m0:00:00\u001B[0m\n",
      "\u001B[?25hInstalling collected packages: dash-table, dash-html-components, dash-core-components, addict, widgetsnbextension, werkzeug, retrying, pyquaternion, jedi, configargparse, comm, Flask, ipywidgets, dash, open3d\n",
      "  Attempting uninstall: widgetsnbextension\n",
      "    Found existing installation: widgetsnbextension 3.6.10\n",
      "    Uninstalling widgetsnbextension-3.6.10:\n",
      "      Successfully uninstalled widgetsnbextension-3.6.10\n",
      "  Attempting uninstall: werkzeug\n",
      "    Found existing installation: Werkzeug 3.1.3\n",
      "    Uninstalling Werkzeug-3.1.3:\n",
      "      Successfully uninstalled Werkzeug-3.1.3\n",
      "  Attempting uninstall: Flask\n",
      "    Found existing installation: Flask 3.1.0\n",
      "    Uninstalling Flask-3.1.0:\n",
      "      Successfully uninstalled Flask-3.1.0\n",
      "  Attempting uninstall: ipywidgets\n",
      "    Found existing installation: ipywidgets 7.7.1\n",
      "    Uninstalling ipywidgets-7.7.1:\n",
      "      Successfully uninstalled ipywidgets-7.7.1\n",
      "Successfully installed Flask-3.0.3 addict-2.4.0 comm-0.2.2 configargparse-1.7 dash-2.18.2 dash-core-components-2.0.0 dash-html-components-2.0.0 dash-table-5.0.0 ipywidgets-8.1.5 jedi-0.19.2 open3d-0.18.0 pyquaternion-0.9.9 retrying-1.3.4 werkzeug-3.0.6 widgetsnbextension-4.0.13\n"
     ]
    }
   ]
  },
  {
   "cell_type": "code",
   "id": "initial_id",
   "metadata": {
    "collapsed": true,
    "id": "initial_id",
    "ExecuteTime": {
     "end_time": "2025-01-04T08:23:08.790501Z",
     "start_time": "2025-01-04T08:23:08.785218Z"
    }
   },
   "source": [
    "import torch\n",
    "import torch.nn as nn\n",
    "import torch.nn.functional as F"
   ],
   "outputs": [],
   "execution_count": 3
  },
  {
   "metadata": {
    "id": "371b8c5b261a5b2c"
   },
   "cell_type": "markdown",
   "source": [
    "Encoder"
   ],
   "id": "371b8c5b261a5b2c"
  },
  {
   "metadata": {
    "id": "c75383b54d3cec85",
    "ExecuteTime": {
     "end_time": "2025-01-04T08:23:09.074245Z",
     "start_time": "2025-01-04T08:23:09.067370Z"
    }
   },
   "cell_type": "code",
   "source": [
    "class PointNetPPEncoder(nn.Module):\n",
    "    def __init__(self, latent_dim=128):\n",
    "        super(PointNetPPEncoder, self).__init__()\n",
    "        self.latent_dim = latent_dim\n",
    "\n",
    "        # Shared MLPs for local feature extraction\n",
    "        self.conv1 = nn.Conv1d(3, 64, 1)\n",
    "        self.conv2 = nn.Conv1d(64, 128, 1)\n",
    "        self.conv3 = nn.Conv1d(128, 256, 1)\n",
    "        self.conv4 = nn.Conv1d(256, 512, 1)\n",
    "        self.conv5 = nn.Conv1d(512, 1024, 1)\n",
    "        self.conv6 = nn.Conv1d(1024, 2048, 1)\n",
    "\n",
    "        # Fully connected layers for global features\n",
    "        self.fc1 = nn.Linear(2048, 1024)\n",
    "        self.fc2 = nn.Linear(1024, 512)\n",
    "        self.fc3 = nn.Linear(512, 256)\n",
    "        self.fc_mu = nn.Linear(256, latent_dim)       # Mean of latent distribution\n",
    "        self.fc_log_sigma = nn.Linear(256, latent_dim)  # Log variance of latent distribution\n",
    "\n",
    "    def forward(self, x):\n",
    "        # Input x: (batch_size, num_points, 3)\n",
    "        x = x.permute(0, 2, 1)  # Change to (batch_size, 3, num_points)\n",
    "\n",
    "        # Apply shared MLPs\n",
    "        x = F.relu(self.conv1(x))\n",
    "        x = F.relu(self.conv2(x))\n",
    "        x = F.relu(self.conv3(x))\n",
    "        x = F.relu(self.conv4(x))\n",
    "        x = F.relu(self.conv5(x))\n",
    "        x = F.relu(self.conv6(x))\n",
    "\n",
    "        # Global max pooling\n",
    "        x = torch.max(x, dim=2)[0]  # (batch_size, 256)\n",
    "\n",
    "        # Fully connected layers for latent representation\n",
    "        x = F.relu(self.fc1(x))\n",
    "        x = F.relu(self.fc2(x))\n",
    "        x = F.relu(self.fc3(x))\n",
    "        mu = self.fc_mu(x)           # (batch_size, latent_dim)\n",
    "        log_sigma = self.fc_log_sigma(x)  # (batch_size, latent_dim)\n",
    "        return mu, log_sigma"
   ],
   "id": "c75383b54d3cec85",
   "outputs": [],
   "execution_count": 4
  },
  {
   "metadata": {
    "id": "61f36e88b8196ee9"
   },
   "cell_type": "markdown",
   "source": [
    "Decoder"
   ],
   "id": "61f36e88b8196ee9"
  },
  {
   "metadata": {
    "id": "64d7136b58bb5243",
    "ExecuteTime": {
     "end_time": "2025-01-04T08:23:09.331927Z",
     "start_time": "2025-01-04T08:23:09.325553Z"
    }
   },
   "cell_type": "code",
   "source": [
    "class PointNetPPDecoder(nn.Module):\n",
    "    def __init__(self, latent_dim=128, num_points=4096):\n",
    "        super(PointNetPPDecoder, self).__init__()\n",
    "        self.latent_dim = latent_dim\n",
    "        self.num_points = num_points\n",
    "\n",
    "        # Fully connected layers to create an initial coarse point cloud\n",
    "        self.fc1 = nn.Linear(latent_dim, 256)\n",
    "        self.fc2 = nn.Linear(256, 512)\n",
    "        self.fc3 = nn.Linear(512, 1024)  # Coarse point cloud (e.g., 256 points * 3)\n",
    "\n",
    "        # Upsampling layers for finer details\n",
    "        self.fc4 = nn.Linear(1024, 2048)\n",
    "        self.fc5 = nn.Linear(2048, 4096)\n",
    "        self.fc6 = nn.Linear(4096, num_points * 3) # Final high-resolution output\n",
    "\n",
    "    def forward(self, z):\n",
    "        # Input z: (batch_size, latent_dim)\n",
    "        x = F.relu(self.fc1(z))\n",
    "        x = F.relu(self.fc2(x))\n",
    "        x = F.relu(self.fc3(x))  # Coarse point cloud\n",
    "\n",
    "        # Upsample to finer resolution\n",
    "        x = F.relu(self.fc4(x))\n",
    "        x = F.relu(self.fc5(x))\n",
    "        x = self.fc6(x)  # (batch_size, num_points * 3)\n",
    "\n",
    "        # Reshape to point cloud format\n",
    "        x = x.view(-1, self.num_points, 3)  # (batch_size, num_points, 3)\n",
    "        return x"
   ],
   "id": "64d7136b58bb5243",
   "outputs": [],
   "execution_count": 5
  },
  {
   "metadata": {
    "id": "758790acbb9d4d71"
   },
   "cell_type": "markdown",
   "source": [
    "Reparameterization trick"
   ],
   "id": "758790acbb9d4d71"
  },
  {
   "metadata": {
    "id": "13b003faaa5cf90a",
    "ExecuteTime": {
     "end_time": "2025-01-04T08:23:09.744579Z",
     "start_time": "2025-01-04T08:23:09.740285Z"
    }
   },
   "cell_type": "code",
   "source": [
    "def reparameterize(mu, log_sigma):\n",
    "    \"\"\"\n",
    "    Reparameterization trick to sample latent variable z.\n",
    "    z = mu + eps * exp(log_sigma * 0.5)\n",
    "    \"\"\"\n",
    "    std = torch.exp(0.5 * log_sigma)\n",
    "    epsilon = torch.randn_like(std)\n",
    "    return mu + epsilon * std"
   ],
   "id": "13b003faaa5cf90a",
   "outputs": [],
   "execution_count": 6
  },
  {
   "metadata": {
    "id": "f9bd0df85b8a947e"
   },
   "cell_type": "markdown",
   "source": [
    "Encoder + Decoder + Reparameterization Trick = Autoencoder (in our case, Variational Autoencoder because we have mu and log sigma)"
   ],
   "id": "f9bd0df85b8a947e"
  },
  {
   "metadata": {
    "id": "5bfd8c367e909d47",
    "ExecuteTime": {
     "end_time": "2025-01-04T08:23:10.064001Z",
     "start_time": "2025-01-04T08:23:10.059181Z"
    }
   },
   "cell_type": "code",
   "source": [
    "class PointNetPPAutoencoder(nn.Module):\n",
    "    def __init__(self, latent_dim=128, num_points=4096):\n",
    "        super(PointNetPPAutoencoder, self).__init__()\n",
    "        self.encoder = PointNetPPEncoder(latent_dim)\n",
    "        self.decoder = PointNetPPDecoder(latent_dim, num_points)\n",
    "\n",
    "    def forward(self, x):\n",
    "        \"\"\"\n",
    "        Returns:\n",
    "          reconstructed: (batch_size, num_points, 3)\n",
    "          mu: (batch_size, latent_dim)\n",
    "          log_sigma: (batch_size, latent_dim)\n",
    "        \"\"\"\n",
    "        mu, log_sigma = self.encoder(x)\n",
    "        z = reparameterize(mu, log_sigma)  # <-- Use the reparam trick\n",
    "        reconstructed = self.decoder(z)\n",
    "        return reconstructed, mu, log_sigma"
   ],
   "id": "5bfd8c367e909d47",
   "outputs": [],
   "execution_count": 7
  },
  {
   "metadata": {
    "id": "c418aab24fb6cd1a"
   },
   "cell_type": "markdown",
   "source": [
    "Loss Functions"
   ],
   "id": "c418aab24fb6cd1a"
  },
  {
   "metadata": {
    "id": "5937ef03469c762",
    "ExecuteTime": {
     "end_time": "2025-01-04T08:23:10.342795Z",
     "start_time": "2025-01-04T08:23:10.338348Z"
    }
   },
   "cell_type": "code",
   "source": [
    "def chamfer_distance(x, y):\n",
    "    \"\"\"\n",
    "    Compute Chamfer Distance between two point clouds x and y.\n",
    "    \"\"\"\n",
    "    x_expanded = x.unsqueeze(2)  # (batch_size, num_points_x, 1, 3)\n",
    "    y_expanded = y.unsqueeze(1)  # (batch_size, 1, num_points_y, 3)\n",
    "    distances = torch.norm(x_expanded - y_expanded, dim=3)  # Pairwise distances\n",
    "    min_dist_x = torch.min(distances, dim=2)[0]\n",
    "    min_dist_y = torch.min(distances, dim=1)[0]\n",
    "    return torch.mean(min_dist_x) + torch.mean(min_dist_y)\n",
    "\n",
    "def kl_divergence(mu, log_sigma):\n",
    "    \"\"\"\n",
    "    Compute the KL divergence between the encoder's latent distribution and a standard Gaussian.\n",
    "    Args:\n",
    "        mu: Mean of the latent distribution (batch_size, latent_dim)\n",
    "        log_sigma: Log of standard deviation (batch_size, latent_dim)\n",
    "    Returns:\n",
    "        kl_loss: The KL divergence loss (scalar)\n",
    "    \"\"\"\n",
    "    kl_loss = -0.5 * torch.sum(1 + log_sigma - mu.pow(2) - log_sigma.exp(), dim=1)\n",
    "    return torch.mean(kl_loss)  # Return the batch mean"
   ],
   "id": "5937ef03469c762",
   "outputs": [],
   "execution_count": 8
  },
  {
   "metadata": {
    "id": "e5489591ca3a5bfe",
    "ExecuteTime": {
     "end_time": "2025-01-04T08:23:10.703752Z",
     "start_time": "2025-01-04T08:23:10.693839Z"
    }
   },
   "cell_type": "code",
   "source": [
    "import torch\n",
    "import torch.utils.data as data\n",
    "import open3d as o3d\n",
    "import os\n",
    "import numpy as np\n",
    "from torch.utils.data import random_split\n",
    "\n",
    "class PointCloudDataset(data.Dataset):\n",
    "    def __init__(self, folder_path, num_points=4096):\n",
    "        self.folder_path = folder_path\n",
    "        self.num_points = num_points\n",
    "        self.files = [f for f in os.listdir(folder_path) if f.endswith('.ply')]\n",
    "\n",
    "    def __len__(self):\n",
    "        return len(self.files)\n",
    "\n",
    "    def __getitem__(self, idx):\n",
    "        file_path = os.path.join(self.folder_path, self.files[idx])\n",
    "        pcd = o3d.io.read_point_cloud(file_path)\n",
    "        points = np.asarray(pcd.points)\n",
    "\n",
    "        # Scale and center the point cloud to fit within a unit cube or sphere:\n",
    "        points -= np.mean(points, axis=0)  # Center\n",
    "        # points /= np.max(np.linalg.norm(points, axis=1))  # I chose not to scale since I would like to see if my latent space can predict for height\n",
    "\n",
    "        # Randomly sample or pad points to ensure uniformity\n",
    "        if points.shape[0] > self.num_points:\n",
    "            indices = np.random.choice(points.shape[0], self.num_points, replace=False)\n",
    "            points = points[indices]\n",
    "        elif points.shape[0] < self.num_points:\n",
    "            pad_size = self.num_points - points.shape[0]\n",
    "            pad_points = np.zeros((pad_size, 3))\n",
    "            points = np.vstack((points, pad_points))\n",
    "\n",
    "        return torch.tensor(points, dtype=torch.float32)\n"
   ],
   "id": "e5489591ca3a5bfe",
   "outputs": [],
   "execution_count": 9
  },
  {
   "metadata": {
    "id": "f7eefcfeb45ad53e"
   },
   "cell_type": "markdown",
   "source": [
    "Data Loader"
   ],
   "id": "f7eefcfeb45ad53e"
  },
  {
   "metadata": {
    "id": "a1885fb241f2426",
    "ExecuteTime": {
     "end_time": "2025-01-04T08:23:11.425216Z",
     "start_time": "2025-01-04T08:23:11.419422Z"
    }
   },
   "cell_type": "code",
   "source": [
    "import torch\n",
    "from torch.utils.data import random_split\n",
    "\n",
    "def get_data_loaders(folder_path=\"/content/drive/MyDrive/buildings_pointcloud_ply\",\n",
    "                     num_points=4096,\n",
    "                     batch_size=32,\n",
    "                     train_ratio=0.9,\n",
    "                     random_seed=42):  # Added a seed parameter for reproducibility\n",
    "    # Set the random seed for reproducibility\n",
    "    torch.manual_seed(random_seed)\n",
    "\n",
    "    dataset = PointCloudDataset(folder_path, num_points=num_points)\n",
    "    train_size = int(train_ratio * len(dataset))\n",
    "    test_size = len(dataset) - train_size\n",
    "    train_dataset, test_dataset = random_split(dataset, [train_size, test_size])\n",
    "\n",
    "    train_loader = torch.utils.data.DataLoader(train_dataset, batch_size=batch_size, shuffle=True)\n",
    "    test_loader = torch.utils.data.DataLoader(test_dataset, batch_size=batch_size, shuffle=False)\n",
    "\n",
    "    print(f\"Dataset split: {len(train_dataset)} train samples, {len(test_dataset)} test samples\")\n",
    "    return train_loader, test_loader\n",
    "\n"
   ],
   "id": "a1885fb241f2426",
   "outputs": [],
   "execution_count": 10
  },
  {
   "metadata": {
    "id": "66eeedc6483e5548"
   },
   "cell_type": "markdown",
   "source": [
    "Define Training Loop"
   ],
   "id": "66eeedc6483e5548"
  },
  {
   "metadata": {
    "id": "97f721ebb7ec8945",
    "ExecuteTime": {
     "end_time": "2025-01-04T08:23:14.326735Z",
     "start_time": "2025-01-04T08:23:12.357286Z"
    }
   },
   "cell_type": "code",
   "source": [
    "import matplotlib.pyplot as plt\n",
    "from tqdm import tqdm\n",
    "import torch.optim as optim\n",
    "\n",
    "def train_model(folder_path=\"/content/drive/MyDrive/buildings_pointcloud_ply\",\n",
    "                latent_dim=128,\n",
    "                num_points=4096,\n",
    "                batch_size=16,\n",
    "                num_epochs=50,\n",
    "                learning_rate=0.001,\n",
    "                beta=1.0,\n",
    "                device=\"cpu\"):\n",
    "\n",
    "    # Prepare data\n",
    "    train_loader, test_loader = get_data_loaders(\n",
    "        folder_path=folder_path,\n",
    "        num_points=num_points,\n",
    "        batch_size=batch_size,\n",
    "        train_ratio=0.9\n",
    "    )\n",
    "\n",
    "    # Initialize model\n",
    "    model = PointNetPPAutoencoder(latent_dim=latent_dim, num_points=num_points)\n",
    "    model.to(device)\n",
    "\n",
    "    # Optimizer\n",
    "    optimizer = optim.Adam(model.parameters(), lr=learning_rate)\n",
    "\n",
    "    loss_history = []\n",
    "\n",
    "    print(\"Starting training...\")\n",
    "    for epoch in range(num_epochs):\n",
    "        model.train()\n",
    "        epoch_loss = 0\n",
    "        progress_bar = tqdm(train_loader, desc=f\"Epoch {epoch + 1}/{num_epochs}\")\n",
    "\n",
    "        for batch in progress_bar:\n",
    "            batch = batch.to(device)\n",
    "\n",
    "            optimizer.zero_grad()\n",
    "\n",
    "            # Forward pass (with VAE components)\n",
    "            reconstructed, mu, log_sigma = model(batch)\n",
    "\n",
    "            # Compute losses\n",
    "            recon_loss = chamfer_distance(reconstructed, batch)\n",
    "            kld_loss = kl_divergence(mu, log_sigma)\n",
    "\n",
    "            # Total loss (VAE) (which is equal to B=1)\n",
    "            # loss = recon_loss + kld_loss\n",
    "\n",
    "            # Total loss (beta-VAE)\n",
    "            loss = recon_loss + beta * kld_loss\n",
    "\n",
    "            # Backward pass\n",
    "            loss.backward()\n",
    "            optimizer.step()\n",
    "\n",
    "            epoch_loss += loss.item()\n",
    "            progress_bar.set_postfix({\"Batch Loss\": loss.item()})\n",
    "\n",
    "        avg_epoch_loss = epoch_loss / len(train_loader)\n",
    "        loss_history.append(avg_epoch_loss)\n",
    "        print(f\"Epoch {epoch + 1}/{num_epochs}, Loss: {avg_epoch_loss:.4f}\")\n",
    "\n",
    "        # Save the trained model\n",
    "        model_save_path = \"pointnetpp_B3-VAE.pth\"\n",
    "        torch.save(model.state_dict(), model_save_path)\n",
    "        print(f\"Model saved to {model_save_path}\")\n",
    "\n",
    "\n",
    "\n",
    "    # Plot loss history\n",
    "    plt.figure(figsize=(10, 6))\n",
    "    plt.plot(range(1, num_epochs + 1), loss_history, marker='o', linestyle='-')\n",
    "    plt.title(\"Training Loss Over Epochs (Chamfer + KL)\")\n",
    "    plt.xlabel(\"Epoch\")\n",
    "    plt.ylabel(\"Loss\")\n",
    "    plt.grid()\n",
    "    plt.show()"
   ],
   "id": "97f721ebb7ec8945",
   "outputs": [],
   "execution_count": 11
  },
  {
   "metadata": {
    "id": "85b90f670ce754"
   },
   "cell_type": "markdown",
   "source": [
    "Train"
   ],
   "id": "85b90f670ce754"
  },
  {
   "metadata": {
    "colab": {
     "base_uri": "https://localhost:8080/",
     "height": 1000
    },
    "id": "5085853a66ecc7f6",
    "outputId": "c4ed092d-2f6e-4cec-9728-40ac7e8cf800"
   },
   "cell_type": "code",
   "outputs": [
    {
     "output_type": "stream",
     "name": "stdout",
     "text": [
      "Dataset split: 3606 train samples, 401 test samples\n",
      "Starting training...\n"
     ]
    },
    {
     "output_type": "stream",
     "name": "stderr",
     "text": [
      "Epoch 1/50: 100%|██████████| 226/226 [02:22<00:00,  1.59it/s, Batch Loss=6.21]\n"
     ]
    },
    {
     "output_type": "stream",
     "name": "stdout",
     "text": [
      "Epoch 1/50, Loss: 5.6576\n",
      "Model saved to pointnetpp_B3-VAE.pth\n"
     ]
    },
    {
     "output_type": "stream",
     "name": "stderr",
     "text": [
      "Epoch 2/50: 100%|██████████| 226/226 [00:26<00:00,  8.68it/s, Batch Loss=6.98]\n"
     ]
    },
    {
     "output_type": "stream",
     "name": "stdout",
     "text": [
      "Epoch 2/50, Loss: 5.2378\n",
      "Model saved to pointnetpp_B3-VAE.pth\n"
     ]
    },
    {
     "output_type": "stream",
     "name": "stderr",
     "text": [
      "Epoch 3/50: 100%|██████████| 226/226 [00:26<00:00,  8.39it/s, Batch Loss=9.28]\n"
     ]
    },
    {
     "output_type": "stream",
     "name": "stdout",
     "text": [
      "Epoch 3/50, Loss: 5.2100\n",
      "Model saved to pointnetpp_B3-VAE.pth\n"
     ]
    },
    {
     "output_type": "stream",
     "name": "stderr",
     "text": [
      "Epoch 4/50: 100%|██████████| 226/226 [00:26<00:00,  8.42it/s, Batch Loss=12.5]\n"
     ]
    },
    {
     "output_type": "stream",
     "name": "stdout",
     "text": [
      "Epoch 4/50, Loss: 5.1692\n",
      "Model saved to pointnetpp_B3-VAE.pth\n"
     ]
    },
    {
     "output_type": "stream",
     "name": "stderr",
     "text": [
      "Epoch 5/50: 100%|██████████| 226/226 [00:26<00:00,  8.42it/s, Batch Loss=3.81]\n"
     ]
    },
    {
     "output_type": "stream",
     "name": "stdout",
     "text": [
      "Epoch 5/50, Loss: 5.1355\n",
      "Model saved to pointnetpp_B3-VAE.pth\n"
     ]
    },
    {
     "output_type": "stream",
     "name": "stderr",
     "text": [
      "Epoch 6/50: 100%|██████████| 226/226 [00:26<00:00,  8.42it/s, Batch Loss=5.63]\n"
     ]
    },
    {
     "output_type": "stream",
     "name": "stdout",
     "text": [
      "Epoch 6/50, Loss: 5.1267\n",
      "Model saved to pointnetpp_B3-VAE.pth\n"
     ]
    },
    {
     "output_type": "stream",
     "name": "stderr",
     "text": [
      "Epoch 7/50: 100%|██████████| 226/226 [00:26<00:00,  8.41it/s, Batch Loss=6.39]\n"
     ]
    },
    {
     "output_type": "stream",
     "name": "stdout",
     "text": [
      "Epoch 7/50, Loss: 5.1264\n",
      "Model saved to pointnetpp_B3-VAE.pth\n"
     ]
    },
    {
     "output_type": "stream",
     "name": "stderr",
     "text": [
      "Epoch 8/50: 100%|██████████| 226/226 [00:26<00:00,  8.47it/s, Batch Loss=4.63]\n"
     ]
    },
    {
     "output_type": "stream",
     "name": "stdout",
     "text": [
      "Epoch 8/50, Loss: 5.1023\n",
      "Model saved to pointnetpp_B3-VAE.pth\n"
     ]
    },
    {
     "output_type": "stream",
     "name": "stderr",
     "text": [
      "Epoch 9/50: 100%|██████████| 226/226 [00:26<00:00,  8.51it/s, Batch Loss=3.42]\n"
     ]
    },
    {
     "output_type": "stream",
     "name": "stdout",
     "text": [
      "Epoch 9/50, Loss: 5.1028\n",
      "Model saved to pointnetpp_B3-VAE.pth\n"
     ]
    },
    {
     "output_type": "stream",
     "name": "stderr",
     "text": [
      "Epoch 10/50: 100%|██████████| 226/226 [00:26<00:00,  8.47it/s, Batch Loss=3.55]\n"
     ]
    },
    {
     "output_type": "stream",
     "name": "stdout",
     "text": [
      "Epoch 10/50, Loss: 5.0787\n",
      "Model saved to pointnetpp_B3-VAE.pth\n"
     ]
    },
    {
     "output_type": "stream",
     "name": "stderr",
     "text": [
      "Epoch 11/50: 100%|██████████| 226/226 [00:26<00:00,  8.41it/s, Batch Loss=3.39]\n"
     ]
    },
    {
     "output_type": "stream",
     "name": "stdout",
     "text": [
      "Epoch 11/50, Loss: 5.0872\n",
      "Model saved to pointnetpp_B3-VAE.pth\n"
     ]
    },
    {
     "output_type": "stream",
     "name": "stderr",
     "text": [
      "Epoch 12/50: 100%|██████████| 226/226 [00:26<00:00,  8.47it/s, Batch Loss=3.94]\n"
     ]
    },
    {
     "output_type": "stream",
     "name": "stdout",
     "text": [
      "Epoch 12/50, Loss: 5.0766\n",
      "Model saved to pointnetpp_B3-VAE.pth\n"
     ]
    },
    {
     "output_type": "stream",
     "name": "stderr",
     "text": [
      "Epoch 13/50: 100%|██████████| 226/226 [00:26<00:00,  8.40it/s, Batch Loss=5.47]\n"
     ]
    },
    {
     "output_type": "stream",
     "name": "stdout",
     "text": [
      "Epoch 13/50, Loss: 5.0756\n",
      "Model saved to pointnetpp_B3-VAE.pth\n"
     ]
    },
    {
     "output_type": "stream",
     "name": "stderr",
     "text": [
      "Epoch 14/50: 100%|██████████| 226/226 [00:26<00:00,  8.44it/s, Batch Loss=3.71]\n"
     ]
    },
    {
     "output_type": "stream",
     "name": "stdout",
     "text": [
      "Epoch 14/50, Loss: 5.0678\n",
      "Model saved to pointnetpp_B3-VAE.pth\n"
     ]
    },
    {
     "output_type": "stream",
     "name": "stderr",
     "text": [
      "Epoch 15/50: 100%|██████████| 226/226 [00:26<00:00,  8.50it/s, Batch Loss=6.33]\n"
     ]
    },
    {
     "output_type": "stream",
     "name": "stdout",
     "text": [
      "Epoch 15/50, Loss: 5.0752\n",
      "Model saved to pointnetpp_B3-VAE.pth\n"
     ]
    },
    {
     "output_type": "stream",
     "name": "stderr",
     "text": [
      "Epoch 16/50: 100%|██████████| 226/226 [00:26<00:00,  8.47it/s, Batch Loss=3.76]\n"
     ]
    },
    {
     "output_type": "stream",
     "name": "stdout",
     "text": [
      "Epoch 16/50, Loss: 5.0695\n",
      "Model saved to pointnetpp_B3-VAE.pth\n"
     ]
    },
    {
     "output_type": "stream",
     "name": "stderr",
     "text": [
      "Epoch 17/50: 100%|██████████| 226/226 [00:26<00:00,  8.49it/s, Batch Loss=3.73]\n"
     ]
    },
    {
     "output_type": "stream",
     "name": "stdout",
     "text": [
      "Epoch 17/50, Loss: 5.0559\n",
      "Model saved to pointnetpp_B3-VAE.pth\n"
     ]
    },
    {
     "output_type": "stream",
     "name": "stderr",
     "text": [
      "Epoch 18/50: 100%|██████████| 226/226 [00:26<00:00,  8.52it/s, Batch Loss=3.83]\n"
     ]
    },
    {
     "output_type": "stream",
     "name": "stdout",
     "text": [
      "Epoch 18/50, Loss: 5.0558\n",
      "Model saved to pointnetpp_B3-VAE.pth\n"
     ]
    },
    {
     "output_type": "stream",
     "name": "stderr",
     "text": [
      "Epoch 19/50: 100%|██████████| 226/226 [00:26<00:00,  8.43it/s, Batch Loss=3.05]\n"
     ]
    },
    {
     "output_type": "stream",
     "name": "stdout",
     "text": [
      "Epoch 19/50, Loss: 5.0619\n",
      "Model saved to pointnetpp_B3-VAE.pth\n"
     ]
    },
    {
     "output_type": "stream",
     "name": "stderr",
     "text": [
      "Epoch 20/50: 100%|██████████| 226/226 [00:26<00:00,  8.46it/s, Batch Loss=3.67]\n"
     ]
    },
    {
     "output_type": "stream",
     "name": "stdout",
     "text": [
      "Epoch 20/50, Loss: 5.0536\n",
      "Model saved to pointnetpp_B3-VAE.pth\n"
     ]
    },
    {
     "output_type": "stream",
     "name": "stderr",
     "text": [
      "Epoch 21/50: 100%|██████████| 226/226 [00:26<00:00,  8.50it/s, Batch Loss=3.38]\n"
     ]
    },
    {
     "output_type": "stream",
     "name": "stdout",
     "text": [
      "Epoch 21/50, Loss: 5.0555\n",
      "Model saved to pointnetpp_B3-VAE.pth\n"
     ]
    },
    {
     "output_type": "stream",
     "name": "stderr",
     "text": [
      "Epoch 22/50: 100%|██████████| 226/226 [00:26<00:00,  8.48it/s, Batch Loss=5.38]\n"
     ]
    },
    {
     "output_type": "stream",
     "name": "stdout",
     "text": [
      "Epoch 22/50, Loss: 5.0551\n",
      "Model saved to pointnetpp_B3-VAE.pth\n"
     ]
    },
    {
     "output_type": "stream",
     "name": "stderr",
     "text": [
      "Epoch 23/50: 100%|██████████| 226/226 [00:26<00:00,  8.50it/s, Batch Loss=5.24]\n"
     ]
    },
    {
     "output_type": "stream",
     "name": "stdout",
     "text": [
      "Epoch 23/50, Loss: 5.0560\n",
      "Model saved to pointnetpp_B3-VAE.pth\n"
     ]
    },
    {
     "output_type": "stream",
     "name": "stderr",
     "text": [
      "Epoch 24/50: 100%|██████████| 226/226 [00:26<00:00,  8.47it/s, Batch Loss=3.11]\n"
     ]
    },
    {
     "output_type": "stream",
     "name": "stdout",
     "text": [
      "Epoch 24/50, Loss: 5.0502\n",
      "Model saved to pointnetpp_B3-VAE.pth\n"
     ]
    },
    {
     "output_type": "stream",
     "name": "stderr",
     "text": [
      "Epoch 25/50: 100%|██████████| 226/226 [00:26<00:00,  8.54it/s, Batch Loss=3.4]\n"
     ]
    },
    {
     "output_type": "stream",
     "name": "stdout",
     "text": [
      "Epoch 25/50, Loss: 5.0461\n",
      "Model saved to pointnetpp_B3-VAE.pth\n"
     ]
    },
    {
     "output_type": "stream",
     "name": "stderr",
     "text": [
      "Epoch 26/50: 100%|██████████| 226/226 [00:26<00:00,  8.50it/s, Batch Loss=4.97]\n"
     ]
    },
    {
     "output_type": "stream",
     "name": "stdout",
     "text": [
      "Epoch 26/50, Loss: 5.0510\n",
      "Model saved to pointnetpp_B3-VAE.pth\n"
     ]
    },
    {
     "output_type": "stream",
     "name": "stderr",
     "text": [
      "Epoch 27/50: 100%|██████████| 226/226 [00:26<00:00,  8.48it/s, Batch Loss=5.05]\n"
     ]
    },
    {
     "output_type": "stream",
     "name": "stdout",
     "text": [
      "Epoch 27/50, Loss: 5.0480\n",
      "Model saved to pointnetpp_B3-VAE.pth\n"
     ]
    },
    {
     "output_type": "stream",
     "name": "stderr",
     "text": [
      "Epoch 28/50: 100%|██████████| 226/226 [00:26<00:00,  8.46it/s, Batch Loss=5.24]\n"
     ]
    },
    {
     "output_type": "stream",
     "name": "stdout",
     "text": [
      "Epoch 28/50, Loss: 5.0463\n",
      "Model saved to pointnetpp_B3-VAE.pth\n"
     ]
    },
    {
     "output_type": "stream",
     "name": "stderr",
     "text": [
      "Epoch 29/50: 100%|██████████| 226/226 [00:26<00:00,  8.49it/s, Batch Loss=5.97]\n"
     ]
    },
    {
     "output_type": "stream",
     "name": "stdout",
     "text": [
      "Epoch 29/50, Loss: 5.0530\n",
      "Model saved to pointnetpp_B3-VAE.pth\n"
     ]
    },
    {
     "output_type": "stream",
     "name": "stderr",
     "text": [
      "Epoch 30/50: 100%|██████████| 226/226 [00:26<00:00,  8.54it/s, Batch Loss=4.01]\n"
     ]
    },
    {
     "output_type": "stream",
     "name": "stdout",
     "text": [
      "Epoch 30/50, Loss: 5.0462\n",
      "Model saved to pointnetpp_B3-VAE.pth\n"
     ]
    },
    {
     "output_type": "stream",
     "name": "stderr",
     "text": [
      "Epoch 31/50: 100%|██████████| 226/226 [00:26<00:00,  8.46it/s, Batch Loss=15.5]\n"
     ]
    },
    {
     "output_type": "stream",
     "name": "stdout",
     "text": [
      "Epoch 31/50, Loss: 5.0761\n",
      "Model saved to pointnetpp_B3-VAE.pth\n"
     ]
    },
    {
     "output_type": "stream",
     "name": "stderr",
     "text": [
      "Epoch 32/50: 100%|██████████| 226/226 [00:26<00:00,  8.59it/s, Batch Loss=3.14]\n"
     ]
    },
    {
     "output_type": "stream",
     "name": "stdout",
     "text": [
      "Epoch 32/50, Loss: 5.0390\n",
      "Model saved to pointnetpp_B3-VAE.pth\n"
     ]
    },
    {
     "output_type": "stream",
     "name": "stderr",
     "text": [
      "Epoch 33/50: 100%|██████████| 226/226 [00:26<00:00,  8.42it/s, Batch Loss=2.88]\n"
     ]
    },
    {
     "output_type": "stream",
     "name": "stdout",
     "text": [
      "Epoch 33/50, Loss: 5.0381\n",
      "Model saved to pointnetpp_B3-VAE.pth\n"
     ]
    },
    {
     "output_type": "stream",
     "name": "stderr",
     "text": [
      "Epoch 34/50: 100%|██████████| 226/226 [00:26<00:00,  8.42it/s, Batch Loss=3.82]\n"
     ]
    },
    {
     "output_type": "stream",
     "name": "stdout",
     "text": [
      "Epoch 34/50, Loss: 5.0442\n",
      "Model saved to pointnetpp_B3-VAE.pth\n"
     ]
    },
    {
     "output_type": "stream",
     "name": "stderr",
     "text": [
      "Epoch 35/50: 100%|██████████| 226/226 [00:27<00:00,  8.37it/s, Batch Loss=3.42]\n"
     ]
    },
    {
     "output_type": "stream",
     "name": "stdout",
     "text": [
      "Epoch 35/50, Loss: 5.0387\n",
      "Model saved to pointnetpp_B3-VAE.pth\n"
     ]
    },
    {
     "output_type": "stream",
     "name": "stderr",
     "text": [
      "Epoch 36/50: 100%|██████████| 226/226 [00:25<00:00,  8.75it/s, Batch Loss=8.43]\n"
     ]
    },
    {
     "output_type": "stream",
     "name": "stdout",
     "text": [
      "Epoch 36/50, Loss: 5.0586\n",
      "Model saved to pointnetpp_B3-VAE.pth\n"
     ]
    },
    {
     "output_type": "stream",
     "name": "stderr",
     "text": [
      "Epoch 37/50: 100%|██████████| 226/226 [00:26<00:00,  8.46it/s, Batch Loss=2.84]\n"
     ]
    },
    {
     "output_type": "stream",
     "name": "stdout",
     "text": [
      "Epoch 37/50, Loss: 5.0487\n",
      "Model saved to pointnetpp_B3-VAE.pth\n"
     ]
    },
    {
     "output_type": "stream",
     "name": "stderr",
     "text": [
      "Epoch 38/50: 100%|██████████| 226/226 [00:26<00:00,  8.54it/s, Batch Loss=3.42]\n"
     ]
    },
    {
     "output_type": "stream",
     "name": "stdout",
     "text": [
      "Epoch 38/50, Loss: 5.0354\n",
      "Model saved to pointnetpp_B3-VAE.pth\n"
     ]
    },
    {
     "output_type": "stream",
     "name": "stderr",
     "text": [
      "Epoch 39/50: 100%|██████████| 226/226 [00:26<00:00,  8.57it/s, Batch Loss=3.7]\n"
     ]
    },
    {
     "output_type": "stream",
     "name": "stdout",
     "text": [
      "Epoch 39/50, Loss: 5.0492\n",
      "Model saved to pointnetpp_B3-VAE.pth\n"
     ]
    },
    {
     "output_type": "stream",
     "name": "stderr",
     "text": [
      "Epoch 40/50: 100%|██████████| 226/226 [00:26<00:00,  8.48it/s, Batch Loss=8.56]\n"
     ]
    },
    {
     "output_type": "stream",
     "name": "stdout",
     "text": [
      "Epoch 40/50, Loss: 5.0579\n",
      "Model saved to pointnetpp_B3-VAE.pth\n"
     ]
    },
    {
     "output_type": "stream",
     "name": "stderr",
     "text": [
      "Epoch 41/50: 100%|██████████| 226/226 [00:26<00:00,  8.47it/s, Batch Loss=5.7]\n"
     ]
    },
    {
     "output_type": "stream",
     "name": "stdout",
     "text": [
      "Epoch 41/50, Loss: 5.0453\n",
      "Model saved to pointnetpp_B3-VAE.pth\n"
     ]
    },
    {
     "output_type": "stream",
     "name": "stderr",
     "text": [
      "Epoch 42/50: 100%|██████████| 226/226 [00:26<00:00,  8.50it/s, Batch Loss=14.6]\n"
     ]
    },
    {
     "output_type": "stream",
     "name": "stdout",
     "text": [
      "Epoch 42/50, Loss: 5.0752\n",
      "Model saved to pointnetpp_B3-VAE.pth\n"
     ]
    },
    {
     "output_type": "stream",
     "name": "stderr",
     "text": [
      "Epoch 43/50: 100%|██████████| 226/226 [00:26<00:00,  8.47it/s, Batch Loss=4.22]\n"
     ]
    },
    {
     "output_type": "stream",
     "name": "stdout",
     "text": [
      "Epoch 43/50, Loss: 5.0430\n",
      "Model saved to pointnetpp_B3-VAE.pth\n"
     ]
    },
    {
     "output_type": "stream",
     "name": "stderr",
     "text": [
      "Epoch 44/50: 100%|██████████| 226/226 [00:26<00:00,  8.48it/s, Batch Loss=5.12]\n"
     ]
    },
    {
     "output_type": "stream",
     "name": "stdout",
     "text": [
      "Epoch 44/50, Loss: 5.0402\n",
      "Model saved to pointnetpp_B3-VAE.pth\n"
     ]
    },
    {
     "output_type": "stream",
     "name": "stderr",
     "text": [
      "Epoch 45/50: 100%|██████████| 226/226 [00:26<00:00,  8.63it/s, Batch Loss=3.56]\n"
     ]
    },
    {
     "output_type": "stream",
     "name": "stdout",
     "text": [
      "Epoch 45/50, Loss: 5.0361\n",
      "Model saved to pointnetpp_B3-VAE.pth\n"
     ]
    },
    {
     "output_type": "stream",
     "name": "stderr",
     "text": [
      "Epoch 46/50: 100%|██████████| 226/226 [00:26<00:00,  8.51it/s, Batch Loss=4.08]\n"
     ]
    },
    {
     "output_type": "stream",
     "name": "stdout",
     "text": [
      "Epoch 46/50, Loss: 5.0401\n",
      "Model saved to pointnetpp_B3-VAE.pth\n"
     ]
    },
    {
     "output_type": "stream",
     "name": "stderr",
     "text": [
      "Epoch 47/50: 100%|██████████| 226/226 [00:26<00:00,  8.43it/s, Batch Loss=4.05]\n"
     ]
    },
    {
     "output_type": "stream",
     "name": "stdout",
     "text": [
      "Epoch 47/50, Loss: 5.0377\n",
      "Model saved to pointnetpp_B3-VAE.pth\n"
     ]
    },
    {
     "output_type": "stream",
     "name": "stderr",
     "text": [
      "Epoch 48/50: 100%|██████████| 226/226 [00:26<00:00,  8.57it/s, Batch Loss=3.77]\n"
     ]
    },
    {
     "output_type": "stream",
     "name": "stdout",
     "text": [
      "Epoch 48/50, Loss: 5.0360\n",
      "Model saved to pointnetpp_B3-VAE.pth\n"
     ]
    },
    {
     "output_type": "stream",
     "name": "stderr",
     "text": [
      "Epoch 49/50: 100%|██████████| 226/226 [00:26<00:00,  8.47it/s, Batch Loss=3.58]\n"
     ]
    },
    {
     "output_type": "stream",
     "name": "stdout",
     "text": [
      "Epoch 49/50, Loss: 5.0425\n",
      "Model saved to pointnetpp_B3-VAE.pth\n"
     ]
    },
    {
     "output_type": "stream",
     "name": "stderr",
     "text": [
      "Epoch 50/50: 100%|██████████| 226/226 [00:26<00:00,  8.48it/s, Batch Loss=4.15]\n"
     ]
    },
    {
     "output_type": "stream",
     "name": "stdout",
     "text": [
      "Epoch 50/50, Loss: 5.0373\n",
      "Model saved to pointnetpp_B3-VAE.pth\n"
     ]
    },
    {
     "output_type": "display_data",
     "data": {
      "text/plain": [
       "<Figure size 1000x600 with 1 Axes>"
      ],
      "image/png": "[encoded data removed]"
     },
     "metadata": {}
    }
   ],
   "execution_count": 12,
   "source": [
    "train_model(\n",
    "    folder_path=\"/content/drive/MyDrive/buildings_pointcloud_ply\",\n",
    "    latent_dim=128,\n",
    "    num_points=4096,\n",
    "    batch_size=16,\n",
    "    num_epochs=50,\n",
    "    learning_rate=0.001,\n",
    "    beta=3.0,\n",
    "    device=\"cuda\"  # or \"cuda\" if you have a GPU\n",
    ")"
   ],
   "id": "5085853a66ecc7f6"
  },
  {
   "metadata": {},
   "cell_type": "markdown",
   "source": "Load the model and play around",
   "id": "985c3ba03253b407"
  },
  {
   "metadata": {
    "ExecuteTime": {
     "end_time": "2025-01-06T23:45:55.376991Z",
     "start_time": "2025-01-06T23:45:49.691326Z"
    }
   },
   "cell_type": "code",
   "source": [
    "import numpy as np\n",
    "import open3d as o3d\n",
    "import torch\n",
    "\n",
    "def visualize_input_and_reconstructed(model, test_loader, device=\"cpu\"):\n",
    "    model.eval()\n",
    "\n",
    "    with torch.no_grad():\n",
    "        # Get the first batch from the test_loader\n",
    "        for batch in test_loader:\n",
    "            # Shape of batch: (batch_size, num_points, 3)\n",
    "            batch = batch.to(device)\n",
    "            break  # Just get the first batch\n",
    "\n",
    "        # Let's visualize the first point cloud in this batch\n",
    "        input_pc = batch[0]  # shape: (num_points, 3)\n",
    "        input_np = input_pc.cpu().numpy()  # Convert to numpy for open3d\n",
    "\n",
    "        # Encode and decode the point cloud\n",
    "        mu, log_sigma = model.encoder(input_pc.unsqueeze(0))  # add batch dim => (1, num_points, 3)\n",
    "        z = reparameterize(mu, log_sigma)\n",
    "        reconstructed = model.decoder(z)  # shape: (1, num_points, 3)\n",
    "\n",
    "        # Convert reconstructed to numpy\n",
    "        reconstructed_np = reconstructed[0].cpu().numpy()\n",
    "\n",
    "    # Create Open3D point cloud for the input\n",
    "    pcd_input = o3d.geometry.PointCloud()\n",
    "    pcd_input.points = o3d.utility.Vector3dVector(input_np)\n",
    "    # Color the input cloud red\n",
    "    pcd_input.paint_uniform_color([1.0, 0.0, 0.0])\n",
    "\n",
    "    # Create Open3D point cloud for the reconstructed shape\n",
    "    pcd_reconstructed = o3d.geometry.PointCloud()\n",
    "    pcd_reconstructed.points = o3d.utility.Vector3dVector(reconstructed_np)\n",
    "    # Color the reconstructed cloud green\n",
    "    pcd_reconstructed.paint_uniform_color([0.0, 1.0, 0.0])\n",
    "\n",
    "    # (Optional) Shift the reconstructed cloud so it’s easier to see side by side\n",
    "    shift_along_x = 1.0\n",
    "    pcd_reconstructed.translate((shift_along_x, 0, 0))\n",
    "\n",
    "    # Visualize both point clouds together\n",
    "    o3d.visualization.draw_geometries([pcd_input, pcd_reconstructed])"
   ],
   "id": "a3726b87f4b8163e",
   "outputs": [
    {
     "name": "stdout",
     "output_type": "stream",
     "text": [
      "Jupyter environment detected. Enabling Open3D WebVisualizer.\n",
      "[Open3D INFO] WebRTC GUI backend enabled.\n",
      "[Open3D INFO] WebRTCWindowSystem: HTTP handshake server disabled.\n"
     ]
    }
   ],
   "execution_count": 1
  },
  {
   "metadata": {
    "ExecuteTime": {
     "end_time": "2025-01-04T08:33:20.316443Z",
     "start_time": "2025-01-04T08:32:30.737533Z"
    }
   },
   "cell_type": "code",
   "source": [
    "import open3d as o3d\n",
    "import torch\n",
    "\n",
    "model = PointNetPPAutoencoder(latent_dim=128, num_points=4096)\n",
    "model.load_state_dict(torch.load(\"pointnetpp_B3-VAE.pth\", map_location=torch.device(\"cpu\")))\n",
    "\n",
    "model.to(\"cpu\")  # or \"cuda\"\n",
    "\n",
    "train_loader, test_loader = get_data_loaders(\n",
    "    folder_path=r\"C:\\Users\\Admin\\PycharmProjects\\AI-Projects\\Tokyo-PointCloud\\buildings_pointcloud_ply\",\n",
    "    num_points=4096,\n",
    "    batch_size=4,  # or 1, if you want just one per batch\n",
    "    train_ratio=0.9\n",
    ")\n",
    "\n",
    "visualize_input_and_reconstructed(model, test_loader, device=\"cpu\")"
   ],
   "id": "3f2803c3a41a384b",
   "outputs": [
    {
     "name": "stderr",
     "output_type": "stream",
     "text": [
      "C:\\Users\\Admin\\AppData\\Local\\Temp\\ipykernel_31396\\2847674894.py:5: FutureWarning: You are using `torch.load` with `weights_only=False` (the current default value), which uses the default pickle module implicitly. It is possible to construct malicious pickle data which will execute arbitrary code during unpickling (See https://github.com/pytorch/pytorch/blob/main/SECURITY.md#untrusted-models for more details). In a future release, the default value for `weights_only` will be flipped to `True`. This limits the functions that could be executed during unpickling. Arbitrary objects will no longer be allowed to be loaded via this mode unless they are explicitly allowlisted by the user via `torch.serialization.add_safe_globals`. We recommend you start setting `weights_only=True` for any use case where you don't have full control of the loaded file. Please open an issue on GitHub for any issues related to this experimental feature.\n",
      "  model.load_state_dict(torch.load(\"pointnetpp_B3-VAE.pth\", map_location=torch.device(\"cpu\")))\n"
     ]
    },
    {
     "name": "stdout",
     "output_type": "stream",
     "text": [
      "Dataset split: 3606 train samples, 401 test samples\n",
      "[Open3D WARNING] GLFW Error: WGL: Failed to make context current: The requested transformation operation is not supported. \n",
      "[Open3D WARNING] GLFW Error: WGL: Failed to make context current: The requested transformation operation is not supported. \n",
      "[Open3D WARNING] GLFW Error: WGL: Failed to make context current: The handle is invalid. \n",
      "[Open3D WARNING] GLFW Error: WGL: Failed to make context current: The requested transformation operation is not supported. \n",
      "[Open3D WARNING] GLFW Error: WGL: Failed to make context current: The handle is invalid. \n",
      "[Open3D WARNING] [ViewControl] SetViewPoint() failed because window height and width are not set.\n"
     ]
    }
   ],
   "execution_count": 15
  },
  {
   "metadata": {
    "ExecuteTime": {
     "end_time": "2025-01-04T08:51:20.742485Z",
     "start_time": "2025-01-04T08:40:55.216170Z"
    }
   },
   "cell_type": "code",
   "source": [
    "import torch\n",
    "import numpy as np\n",
    "from sklearn.manifold import TSNE\n",
    "import matplotlib.pyplot as plt\n",
    "\n",
    "# ---------------------------\n",
    "# 1. Load your trained (beta-)VAE model\n",
    "# ---------------------------\n",
    "\n",
    "# Load model\n",
    "model = PointNetPPAutoencoder(latent_dim=128, num_points=4096)\n",
    "model.load_state_dict(torch.load('pointnetpp_B3-VAE.pth', map_location=torch.device('cpu')))\n",
    "model.eval()\n",
    "\n",
    "# ---------------------------\n",
    "# 2. Prepare (or load) the dataset\n",
    "# ---------------------------\n",
    "# Assuming train_loader yields only `inputs`, which are point clouds.\n",
    "all_latents = []\n",
    "\n",
    "for inputs in train_loader:  # No labels\n",
    "    inputs = inputs.to('cpu')  # Use 'cuda' if you have a GPU and the model is on GPU\n",
    "    with torch.no_grad():\n",
    "        z_mean, z_logvar = model.encoder(inputs)  # Call the encoder directly\n",
    "\n",
    "        # Sample from Gaussian distribution using reparameterization trick\n",
    "        std = torch.exp(0.5 * z_logvar)\n",
    "        eps = torch.randn_like(std)  # Gaussian noise\n",
    "        z_vec = z_mean + eps * std  # Sampled latent vector\n",
    "\n",
    "    all_latents.append(z_vec.cpu().numpy())\n",
    "\n",
    "all_latents = np.concatenate(all_latents, axis=0)  # shape: (N, latent_dim)\n",
    "\n",
    "# ---------------------------\n",
    "# 3. Apply t-SNE (or UMAP) to reduce dimensionality\n",
    "# ---------------------------\n",
    "tsne = TSNE(n_components=2, random_state=42)\n",
    "latents_2d = tsne.fit_transform(all_latents)  # shape: (N, 2)\n",
    "\n",
    "# ---------------------------\n",
    "# 4. Plot the 2D t-SNE results\n",
    "# ---------------------------\n",
    "plt.figure(figsize=(8, 6))\n",
    "plt.scatter(latents_2d[:, 0], latents_2d[:, 1], s=5)  # No labels, so just plot the points\n",
    "plt.title(\"Latent Space Visualization (t-SNE)\")\n",
    "plt.xlabel(\"t-SNE Dim 1\")\n",
    "plt.ylabel(\"t-SNE Dim 2\")\n",
    "plt.show()"
   ],
   "id": "d92294d336726c0b",
   "outputs": [
    {
     "name": "stderr",
     "output_type": "stream",
     "text": [
      "C:\\Users\\Admin\\AppData\\Local\\Temp\\ipykernel_31396\\1838968711.py:12: FutureWarning: You are using `torch.load` with `weights_only=False` (the current default value), which uses the default pickle module implicitly. It is possible to construct malicious pickle data which will execute arbitrary code during unpickling (See https://github.com/pytorch/pytorch/blob/main/SECURITY.md#untrusted-models for more details). In a future release, the default value for `weights_only` will be flipped to `True`. This limits the functions that could be executed during unpickling. Arbitrary objects will no longer be allowed to be loaded via this mode unless they are explicitly allowlisted by the user via `torch.serialization.add_safe_globals`. We recommend you start setting `weights_only=True` for any use case where you don't have full control of the loaded file. Please open an issue on GitHub for any issues related to this experimental feature.\n",
      "  model.load_state_dict(torch.load('pointnetpp_B3-VAE.pth', map_location=torch.device('cpu')))\n"
     ]
    },
    {
     "data": {
      "text/plain": [
       "<Figure size 800x600 with 1 Axes>"
      ],
      "image/png": "[encoded data removed]"
     },
     "metadata": {},
     "output_type": "display_data"
    }
   ],
   "execution_count": 26
  }
 ],
 "metadata": {
  "kernelspec": {
   "display_name": "Python 3 (ipykernel)",
   "name": "python3",
   "language": "python"
  },
  "language_info": {
   "codemirror_mode": {
    "name": "ipython",
    "version": 2
   },
   "file_extension": ".py",
   "mimetype": "text/x-python",
   "name": "python",
   "nbconvert_exporter": "python",
   "pygments_lexer": "ipython2",
   "version": "2.7.6"
  },
  "colab": {
   "provenance": [],
   "gpuType": "A100"
  },
  "accelerator": "GPU"
 },
 "nbformat": 4,
 "nbformat_minor": 5
}
