{
 "cells": [
  {
   "cell_type": "code",
   "source": [
    "from google.colab import drive\n",
    "drive.mount('/content/drive')"
   ],
   "metadata": {
    "colab": {
     "base_uri": "https://localhost:8080/"
    },
    "id": "ah0IzojMNtvL",
    "outputId": "56f78ee3-8c57-4510-fc22-7a087b759dbc"
   },
   "id": "ah0IzojMNtvL",
   "execution_count": 17,
   "outputs": [
    {
     "output_type": "stream",
     "name": "stdout",
     "text": [
      "Drive already mounted at /content/drive; to attempt to forcibly remount, call drive.mount(\"/content/drive\", force_remount=True).\n"
     ]
    }
   ]
  },
  {
   "metadata": {},
   "cell_type": "markdown",
   "source": "# Data Augmentation",
   "id": "5a2384f1ee94995e"
  },
  {
   "metadata": {},
   "cell_type": "markdown",
   "source": "### Method #1",
   "id": "63c62a82dfc2da4c"
  },
  {
   "metadata": {
    "ExecuteTime": {
     "end_time": "2025-02-06T18:48:32.644217Z",
     "start_time": "2025-02-06T18:48:32.643216Z"
    }
   },
   "cell_type": "code",
   "source": [
    "import os\n",
    "import random\n",
    "import numpy as np\n",
    "import open3d as o3d\n",
    "\n",
    "# ------------------------------------------------\n",
    "# Augmentation functions\n",
    "# ------------------------------------------------\n",
    "\n",
    "def random_rotation(points):\n",
    "    \"\"\"\n",
    "    Apply a random rotation about a random axis in 3D.\n",
    "    points: (N, 3) numpy array\n",
    "    return: rotated points (N, 3)\n",
    "    \"\"\"\n",
    "    # Generate random angles for rotations about X, Y, Z\n",
    "    rx = np.random.uniform(0, 2*np.pi)\n",
    "    ry = np.random.uniform(0, 2*np.pi)\n",
    "    rz = np.random.uniform(0, 2*np.pi)\n",
    "\n",
    "    # Rotation matrices for each axis\n",
    "    Rx = np.array([\n",
    "        [1,           0,            0],\n",
    "        [0,  np.cos(rx), -np.sin(rx)],\n",
    "        [0,  np.sin(rx),  np.cos(rx)]\n",
    "    ])\n",
    "    Ry = np.array([\n",
    "        [ np.cos(ry), 0,  np.sin(ry)],\n",
    "        [          0, 1,           0],\n",
    "        [-np.sin(ry), 0,  np.cos(ry)]\n",
    "    ])\n",
    "    Rz = np.array([\n",
    "        [ np.cos(rz), -np.sin(rz), 0],\n",
    "        [ np.sin(rz),  np.cos(rz), 0],\n",
    "        [          0,           0, 1]\n",
    "    ])\n",
    "\n",
    "    # Combined rotation\n",
    "    R = Rz @ Ry @ Rx\n",
    "    return points @ R.T\n",
    "\n",
    "\n",
    "def random_scaling(points, scale_range=(0.8, 1.2)):\n",
    "    \"\"\"\n",
    "    Scale the point cloud by a random factor.\n",
    "    scale_range: (min_scale, max_scale)\n",
    "    return: scaled points (N, 3)\n",
    "    \"\"\"\n",
    "    scale_factor = np.random.uniform(scale_range[0], scale_range[1])\n",
    "    return points * scale_factor\n",
    "\n",
    "\n",
    "def random_jitter(points, sigma=0.01, clip=0.05):\n",
    "    \"\"\"\n",
    "    Jitter each point by Gaussian noise (mean=0, std=sigma) clipped to +/- clip.\n",
    "    return: jittered points (N, 3)\n",
    "    \"\"\"\n",
    "    jitter = np.clip(sigma * np.random.randn(*points.shape), -clip, clip)\n",
    "    return points + jitter\n",
    "\n",
    "\n",
    "def random_mixup(pc1, pc2, alpha=0.5):\n",
    "    \"\"\"\n",
    "    Mixup: randomly merge points from two point clouds.\n",
    "    alpha ~ fraction from pc1 or ratio if you want partial merges.\n",
    "    Here we take alpha% of points from pc1 and (1-alpha)% from pc2.\n",
    "    \"\"\"\n",
    "    n1 = int(len(pc1) * alpha)\n",
    "    n2 = 4096 - n1  # ensuring total 4096\n",
    "    # Randomly sample points from pc1, pc2\n",
    "    idx1 = np.random.choice(len(pc1), n1, replace=(n1 > len(pc1)))\n",
    "    idx2 = np.random.choice(len(pc2), n2, replace=(n2 > len(pc2)))\n",
    "    return np.concatenate([pc1[idx1], pc2[idx2]], axis=0)\n",
    "\n",
    "\n",
    "def random_cutmix(pc1, pc2):\n",
    "    \"\"\"\n",
    "    CutMix for point clouds (conceptually):\n",
    "    1. Random bounding box on pc1\n",
    "    2. Replace those points by points from pc2 within a bounding box.\n",
    "    Return combined pc with same number of points.\n",
    "    \"\"\"\n",
    "    # For demonstration, let's randomly choose half the points from pc1\n",
    "    # that lie within a random bounding region, and replace them with\n",
    "    # an equal number of points from pc2 in the same bounding region.\n",
    "    N = 4096\n",
    "    # First sample both to 4096 (if they aren't already)\n",
    "    pc1_sample = uniform_resample(pc1, N)\n",
    "    pc2_sample = uniform_resample(pc2, N)\n",
    "\n",
    "    # Random bounding box (small cube) in pc1:\n",
    "    center = np.mean(pc1_sample, axis=0)\n",
    "    offset = np.random.uniform(low=0.0, high=0.1, size=3)\n",
    "    min_box = center - offset\n",
    "    max_box = center + offset\n",
    "\n",
    "    # Indices in pc1 that lie inside the bounding box\n",
    "    inside_box = np.all((pc1_sample >= min_box) & (pc1_sample <= max_box), axis=1)\n",
    "    inside_count = np.sum(inside_box)\n",
    "\n",
    "    # Indices in pc2 to replace them\n",
    "    idx_replace = np.random.choice(len(pc2_sample), inside_count, replace=(inside_count>len(pc2_sample)))\n",
    "\n",
    "    # Output\n",
    "    pc_out = pc1_sample.copy()\n",
    "    pc_out[inside_box] = pc2_sample[idx_replace]\n",
    "    return pc_out\n",
    "\n",
    "\n",
    "def elastic_distortion(points, granularity=0.2, magnitude=0.4):\n",
    "    \"\"\"\n",
    "    Simple approximation of elastic distortion:\n",
    "    1. Generate random 3D displacement fields (Perlin noise or random).\n",
    "    2. Shift points accordingly.\n",
    "    Here, we do a simple random displacement for demonstration.\n",
    "    \"\"\"\n",
    "    # For a more realistic approach, you'd sample from a coherent noise function.\n",
    "    # We'll do a simpler random offset approach grouped by 'granularity'.\n",
    "    # This is very simplistic. \n",
    "    coords = points / granularity\n",
    "    coords_floor = np.floor(coords).astype(np.int32)\n",
    "    offsets = {}\n",
    "    distorted_points = []\n",
    "\n",
    "    for i, c in enumerate(coords_floor):\n",
    "        c_key = tuple(c)\n",
    "        if c_key not in offsets:\n",
    "            offsets[c_key] = np.random.uniform(-magnitude, magnitude, size=3)\n",
    "        distorted_points.append(points[i] + offsets[c_key])\n",
    "\n",
    "    return np.array(distorted_points)\n",
    "\n",
    "\n",
    "def occlusion_simulation(points, drop_ratio=0.2):\n",
    "    \"\"\"\n",
    "    Randomly simulate occlusion by removing a fraction of points \n",
    "    (e.g. all points in some random bounding region).\n",
    "    \"\"\"\n",
    "    N = len(points)\n",
    "    # We remove (drop_ratio * N) points in a random bounding region\n",
    "    # Example: remove points within a random sphere\n",
    "    center_idx = np.random.choice(N, 1)\n",
    "    center = points[center_idx]\n",
    "    radius = np.random.uniform(0.1, 0.3)\n",
    "\n",
    "    dist = np.linalg.norm(points - center, axis=1)\n",
    "    inside_sphere = dist < radius\n",
    "\n",
    "    # If fewer points are inside than we want to remove, \n",
    "    # we might remove them all; otherwise remove only portion.\n",
    "    num_remove = int(drop_ratio * N)\n",
    "    inside_indices = np.where(inside_sphere)[0]\n",
    "\n",
    "    if len(inside_indices) <= num_remove:\n",
    "        # Remove them all\n",
    "        keep_mask = ~inside_sphere\n",
    "    else:\n",
    "        # Random subset of inside_sphere\n",
    "        remove_indices = np.random.choice(inside_indices, num_remove, replace=False)\n",
    "        keep_mask = np.ones(N, dtype=bool)\n",
    "        keep_mask[remove_indices] = False\n",
    "\n",
    "    return points[keep_mask]\n",
    "\n",
    "\n",
    "def uniform_resample(points, num_samples=4096):\n",
    "    \"\"\"\n",
    "    Uniformly (randomly) sample (or downsample) points to a fixed number.\n",
    "    If points < num_samples, replicate some points.\n",
    "    \"\"\"\n",
    "    N = len(points)\n",
    "    if N > num_samples:\n",
    "        # Downsample\n",
    "        idx = np.random.choice(N, num_samples, replace=False)\n",
    "        return points[idx]\n",
    "    elif N < num_samples:\n",
    "        # Upsample\n",
    "        idx = np.random.choice(N, num_samples, replace=True)\n",
    "        return points[idx]\n",
    "    else:\n",
    "        return points\n",
    "\n",
    "# ------------------------------------------------\n",
    "# Main pipeline that applies all augmentations\n",
    "# ------------------------------------------------\n",
    "\n",
    "def augment_point_cloud(pc, all_pcs):\n",
    "    \"\"\"\n",
    "    A demonstration pipeline that does:\n",
    "    1) Random rotation\n",
    "    2) Random scaling\n",
    "    3) Random jitter\n",
    "    4) Optionally MixUp with another random cloud\n",
    "    5) Optionally CutMix with another random cloud\n",
    "    6) Elastic Distortion\n",
    "    7) Occlusion Simulation\n",
    "    8) Resample to 4096\n",
    "    \"\"\"\n",
    "    # 1) Rotate\n",
    "    pc = random_rotation(pc)\n",
    "    # 2) Scale\n",
    "    pc = random_scaling(pc)\n",
    "    # 3) Jitter\n",
    "    pc = random_jitter(pc)\n",
    "\n",
    "    # 4) MixUp with probability 0.5\n",
    "    if random.random() < 0.5 and len(all_pcs) > 1:\n",
    "        # pick a different random cloud\n",
    "        pc2 = random.choice(all_pcs)\n",
    "        if not np.array_equal(pc2, pc):\n",
    "            pc2 = uniform_resample(pc2, 4096)\n",
    "            pc = random_mixup(uniform_resample(pc, 4096), pc2)\n",
    "\n",
    "    # 5) CutMix with probability 0.5\n",
    "    if random.random() < 0.5 and len(all_pcs) > 1:\n",
    "        pc2 = random.choice(all_pcs)\n",
    "        if not np.array_equal(pc2, pc):\n",
    "            pc = random_cutmix(pc, pc2)\n",
    "\n",
    "    # 6) Elastic Distortion\n",
    "    pc = elastic_distortion(pc)\n",
    "\n",
    "    # 7) Occlusion Simulation (with probability 0.5)\n",
    "    if random.random() < 0.5:\n",
    "        pc = occlusion_simulation(pc, drop_ratio=0.2)\n",
    "\n",
    "    # 8) Always resample to 4096 at the end\n",
    "    pc = uniform_resample(pc, 4096)\n",
    "\n",
    "    return pc\n",
    "\n",
    "def load_ply_as_numpy(filepath):\n",
    "    \"\"\"\n",
    "    Load a .ply file using Open3D and return Nx3 numpy array of points.\n",
    "    \"\"\"\n",
    "    pcd = o3d.io.read_point_cloud(filepath)\n",
    "    return np.asarray(pcd.points)\n",
    "\n",
    "def save_numpy_as_ply(points, filepath):\n",
    "    \"\"\"\n",
    "    Save an Nx3 numpy array of points to PLY using Open3D.\n",
    "    \"\"\"\n",
    "    pcd = o3d.geometry.PointCloud()\n",
    "    pcd.points = o3d.utility.Vector3dVector(points)\n",
    "    o3d.io.write_point_cloud(filepath, pcd)\n",
    "\n",
    "# ------------------------------------------------\n",
    "# Main entry point\n",
    "# ------------------------------------------------\n",
    "\n",
    "def main(input_folder=r'buildings_pointcloud_ply',\n",
    "         output_folder=r'augmented_buildings_ply'):\n",
    "    if not os.path.exists(output_folder):\n",
    "        os.makedirs(output_folder)\n",
    "\n",
    "    # Gather all PLY files in input folder\n",
    "    ply_files = [f for f in os.listdir(input_folder) if f.endswith('.ply')]\n",
    "\n",
    "    # Pre-load all point clouds into memory for potential MixUp/CutMix\n",
    "    all_point_clouds = []\n",
    "    for fname in ply_files:\n",
    "        full_path = os.path.join(input_folder, fname)\n",
    "        pc = load_ply_as_numpy(full_path)\n",
    "        all_point_clouds.append(pc)\n",
    "\n",
    "    # Augment each file\n",
    "    for i, fname in enumerate(ply_files):\n",
    "        input_path = os.path.join(input_folder, fname)\n",
    "        output_path = os.path.join(output_folder,\"aug_\"+fname)\n",
    "\n",
    "        # Load\n",
    "        pc = all_point_clouds[i]\n",
    "\n",
    "        # Augment\n",
    "        pc_aug = augment_point_cloud(pc, all_point_clouds)\n",
    "\n",
    "        # Save\n",
    "        save_numpy_as_ply(pc_aug, output_path)\n",
    "        print(f\"Saved augmented point cloud to {output_path}\")\n",
    "\n",
    "if __name__ == \"__main__\":\n",
    "    main()\n"
   ],
   "id": "bb388be79aa5969d",
   "outputs": [],
   "execution_count": null
  },
  {
   "metadata": {},
   "cell_type": "markdown",
   "source": "### Method 2",
   "id": "a5645e8d6e5ee0f4"
  },
  {
   "metadata": {},
   "cell_type": "code",
   "outputs": [],
   "execution_count": null,
   "source": [
    "import os\n",
    "import numpy as np\n",
    "import open3d as o3d\n",
    "import random\n",
    "from scipy.spatial.transform import Rotation as R\n",
    "from scipy.ndimage import gaussian_filter\n",
    "\n",
    "# Input and output directories\n",
    "input_dir = \"buildings_pointcloud_ply\"\n",
    "output_dir = \"augmented_v2_buildings_ply\"\n",
    "os.makedirs(output_dir, exist_ok=True)\n",
    "\n",
    "def load_point_cloud(file_path):\n",
    "    pcd = o3d.io.read_point_cloud(file_path)\n",
    "    points = np.asarray(pcd.points)\n",
    "    return points, pcd\n",
    "\n",
    "def save_point_cloud(points, template_pcd, output_path):\n",
    "    template_pcd.points = o3d.utility.Vector3dVector(points)\n",
    "    o3d.io.write_point_cloud(output_path, template_pcd)\n",
    "\n",
    "def random_rotation(points):\n",
    "    rot = R.random().as_matrix()\n",
    "    return points @ rot.T\n",
    "\n",
    "def random_scaling(points, scale_range=(0.8, 1.2)):\n",
    "    scale = np.random.uniform(*scale_range)\n",
    "    return points * scale\n",
    "\n",
    "def random_jittering(points, sigma=0.02, clip=0.05):\n",
    "    jitter = np.clip(np.random.normal(0, sigma, points.shape), -clip, clip)\n",
    "    return points + jitter\n",
    "\n",
    "def mixup(points1, points2):\n",
    "    alpha = np.random.beta(0.4, 0.4)  # Mixup parameter\n",
    "    mixed_points = alpha * points1 + (1 - alpha) * points2\n",
    "    return mixed_points\n",
    "\n",
    "def cutmix(points1, points2):\n",
    "    mask = np.random.rand(points1.shape[0]) > 0.5\n",
    "    mixed_points = np.where(mask[:, None], points1, points2)\n",
    "    return mixed_points\n",
    "\n",
    "def elastic_distortion(points, sigma=0.2, magnitude=0.2):\n",
    "    noise = np.random.randn(*points.shape) * sigma\n",
    "    smoothed_noise = gaussian_filter(noise, sigma=magnitude, mode='constant')\n",
    "    return points + smoothed_noise\n",
    "\n",
    "def occlusion_simulation(points, occlusion_ratio=0.2):\n",
    "    keep_indices = np.random.choice(points.shape[0], int((1 - occlusion_ratio) * points.shape[0]), replace=False)\n",
    "    return points[keep_indices]\n",
    "\n",
    "# Process each PLY file in the directory\n",
    "file_list = [f for f in os.listdir(input_dir) if f.endswith(\".ply\")]\n",
    "\n",
    "for file_name in file_list:\n",
    "    file_path = os.path.join(input_dir, file_name)\n",
    "    points, pcd_template = load_point_cloud(file_path)\n",
    "\n",
    "    # Perform augmentations\n",
    "    augmented_variants = {\n",
    "        \"rotated\": random_rotation(points),\n",
    "        \"scaled\": random_scaling(points),\n",
    "        \"jittered\": random_jittering(points),\n",
    "        \"elastic\": elastic_distortion(points),\n",
    "    }\n",
    "\n",
    "    # Select another random file for mixup and cutmix\n",
    "    mixup_file = random.choice(file_list)\n",
    "    cutmix_file = random.choice(file_list)\n",
    "    mixup_points, _ = load_point_cloud(os.path.join(input_dir, mixup_file))\n",
    "    cutmix_points, _ = load_point_cloud(os.path.join(input_dir, cutmix_file))\n",
    "\n",
    "    augmented_variants[\"mixup\"] = mixup(points, mixup_points[:4096])\n",
    "    augmented_variants[\"cutmix\"] = cutmix(points, cutmix_points[:4096])\n",
    "    augmented_variants[\"occluded\"] = occlusion_simulation(points)\n",
    "\n",
    "    # Ensure all augmented point clouds have exactly 4096 points\n",
    "    for key, aug_points in augmented_variants.items():\n",
    "        if aug_points.shape[0] < 4096:\n",
    "            aug_points = np.pad(aug_points, ((0, 4096 - aug_points.shape[0]), (0, 0)), mode='edge')\n",
    "        elif aug_points.shape[0] > 4096:\n",
    "            aug_points = aug_points[:4096]\n",
    "\n",
    "        output_path = os.path.join(output_dir, f\"aug_{key}{file_name[:-4]}.ply\")\n",
    "        save_point_cloud(aug_points, pcd_template, output_path)\n"
   ],
   "id": "aaa987eedf597aea"
  },
  {
   "metadata": {
    "ExecuteTime": {
     "end_time": "2025-02-13T15:32:23.703979Z",
     "start_time": "2025-02-13T15:31:47.779033Z"
    }
   },
   "cell_type": "code",
   "source": [
    "import torch\n",
    "import torch.nn as nn\n",
    "import torch.nn.functional as F"
   ],
   "id": "initial_id",
   "outputs": [],
   "execution_count": 4
  },
  {
   "metadata": {},
   "cell_type": "markdown",
   "source": "Encoder",
   "id": "371b8c5b261a5b2c"
  },
  {
   "metadata": {
    "id": "c75383b54d3cec85",
    "ExecuteTime": {
     "end_time": "2025-02-13T15:32:23.746322Z",
     "start_time": "2025-02-13T15:32:23.718811Z"
    }
   },
   "cell_type": "code",
   "source": [
    "class PointNetPPEncoder(nn.Module):\n",
    "    def __init__(self, latent_dim=128):\n",
    "        super(PointNetPPEncoder, self).__init__()\n",
    "        self.latent_dim = latent_dim\n",
    "\n",
    "        # Shared MLPs for local feature extraction\n",
    "        self.conv1 = nn.Conv1d(3, 64, 1)\n",
    "        self.conv2 = nn.Conv1d(64, 128, 1)\n",
    "        self.conv3 = nn.Conv1d(128, 256, 1)\n",
    "        self.conv4 = nn.Conv1d(256, 512, 1)\n",
    "        self.conv5 = nn.Conv1d(512, 1024, 1)\n",
    "        self.conv6 = nn.Conv1d(1024, 2048, 1)\n",
    "\n",
    "        # Fully connected layers for global features\n",
    "        self.fc1 = nn.Linear(2048, 1024)\n",
    "        self.fc2 = nn.Linear(1024, 512)\n",
    "        self.fc3 = nn.Linear(512, 256)\n",
    "        self.fc_mu = nn.Linear(256, latent_dim)       # Mean of latent distribution\n",
    "        self.fc_log_sigma = nn.Linear(256, latent_dim)  # Log variance of latent distribution\n",
    "\n",
    "    def forward(self, x):\n",
    "        # Input x: (batch_size, num_points, 3)\n",
    "        x = x.permute(0, 2, 1)  # Change to (batch_size, 3, num_points)\n",
    "\n",
    "        # Apply shared MLPs\n",
    "        x = F.relu(self.conv1(x))\n",
    "        x = F.relu(self.conv2(x))\n",
    "        x = F.relu(self.conv3(x))\n",
    "        x = F.relu(self.conv4(x))\n",
    "        x = F.relu(self.conv5(x))\n",
    "        x = F.relu(self.conv6(x))\n",
    "\n",
    "        # Global max pooling\n",
    "        x = torch.max(x, dim=2)[0]  # (batch_size, 256)\n",
    "\n",
    "        # Fully connected layers for latent representation\n",
    "        x = F.relu(self.fc1(x))\n",
    "        x = F.relu(self.fc2(x))\n",
    "        x = F.relu(self.fc3(x))\n",
    "        mu = self.fc_mu(x)           # (batch_size, latent_dim)\n",
    "        log_sigma = self.fc_log_sigma(x)  # (batch_size, latent_dim)\n",
    "        return mu, log_sigma"
   ],
   "id": "c75383b54d3cec85",
   "outputs": [],
   "execution_count": 5
  },
  {
   "metadata": {
    "id": "61f36e88b8196ee9"
   },
   "cell_type": "markdown",
   "source": [
    "Decoder"
   ],
   "id": "61f36e88b8196ee9"
  },
  {
   "metadata": {
    "id": "64d7136b58bb5243",
    "ExecuteTime": {
     "end_time": "2025-02-13T15:32:23.770942Z",
     "start_time": "2025-02-13T15:32:23.751846Z"
    }
   },
   "cell_type": "code",
   "source": [
    "class PointNetPPDecoder(nn.Module):\n",
    "    def __init__(self, latent_dim=128, num_points=4096):\n",
    "        super(PointNetPPDecoder, self).__init__()\n",
    "        self.latent_dim = latent_dim\n",
    "        self.num_points = num_points\n",
    "\n",
    "        # Fully connected layers to create an initial coarse point cloud\n",
    "        self.fc1 = nn.Linear(latent_dim, 256)\n",
    "        self.fc2 = nn.Linear(256, 512)\n",
    "        self.fc3 = nn.Linear(512, 1024)  # Coarse point cloud (e.g., 256 points * 3)\n",
    "\n",
    "        # Upsampling layers for finer details\n",
    "        self.fc4 = nn.Linear(1024, 2048)\n",
    "        self.fc5 = nn.Linear(2048, 4096)\n",
    "        self.fc6 = nn.Linear(4096, num_points * 3) # Final high-resolution output\n",
    "\n",
    "    def forward(self, z):\n",
    "        # Input z: (batch_size, latent_dim)\n",
    "        x = F.relu(self.fc1(z))\n",
    "        x = F.relu(self.fc2(x))\n",
    "        x = F.relu(self.fc3(x))  # Coarse point cloud\n",
    "\n",
    "        # Upsample to finer resolution\n",
    "        x = F.relu(self.fc4(x))\n",
    "        x = F.relu(self.fc5(x))\n",
    "        x = self.fc6(x)  # (batch_size, num_points * 3)\n",
    "\n",
    "        # Reshape to point cloud format\n",
    "        x = x.view(-1, self.num_points, 3)  # (batch_size, num_points, 3)\n",
    "        return x"
   ],
   "id": "64d7136b58bb5243",
   "outputs": [],
   "execution_count": 6
  },
  {
   "metadata": {
    "id": "758790acbb9d4d71"
   },
   "cell_type": "markdown",
   "source": [
    "Reparameterization trick"
   ],
   "id": "758790acbb9d4d71"
  },
  {
   "metadata": {
    "id": "13b003faaa5cf90a",
    "ExecuteTime": {
     "end_time": "2025-02-13T15:32:23.791082Z",
     "start_time": "2025-02-13T15:32:23.775952Z"
    }
   },
   "cell_type": "code",
   "source": [
    "def reparameterize(mu, log_sigma):\n",
    "    \"\"\"\n",
    "    Reparameterization trick to sample latent variable z.\n",
    "    z = mu + eps * exp(log_sigma * 0.5)\n",
    "    \"\"\"\n",
    "    std = torch.exp(0.5 * log_sigma)\n",
    "    epsilon = torch.randn_like(std)\n",
    "    return mu + epsilon * std"
   ],
   "id": "13b003faaa5cf90a",
   "outputs": [],
   "execution_count": 7
  },
  {
   "metadata": {
    "id": "f9bd0df85b8a947e"
   },
   "cell_type": "markdown",
   "source": [
    "Encoder + Decoder + Reparameterization Trick = Autoencoder (in our case, Variational Autoencoder because we have mu and log sigma)"
   ],
   "id": "f9bd0df85b8a947e"
  },
  {
   "metadata": {
    "id": "5bfd8c367e909d47",
    "ExecuteTime": {
     "end_time": "2025-02-13T15:32:23.816019Z",
     "start_time": "2025-02-13T15:32:23.796093Z"
    }
   },
   "cell_type": "code",
   "source": [
    "class PointNetPPAutoencoder(nn.Module):\n",
    "    def __init__(self, latent_dim=128, num_points=4096):\n",
    "        super(PointNetPPAutoencoder, self).__init__()\n",
    "        self.encoder = PointNetPPEncoder(latent_dim)\n",
    "        self.decoder = PointNetPPDecoder(latent_dim, num_points)\n",
    "\n",
    "    def forward(self, x):\n",
    "        \"\"\"\n",
    "        Returns:\n",
    "          reconstructed: (batch_size, num_points, 3)\n",
    "          mu: (batch_size, latent_dim)\n",
    "          log_sigma: (batch_size, latent_dim)\n",
    "        \"\"\"\n",
    "        mu, log_sigma = self.encoder(x)\n",
    "        z = reparameterize(mu, log_sigma)  # <-- Use the reparam trick\n",
    "        reconstructed = self.decoder(z)\n",
    "        return reconstructed, mu, log_sigma"
   ],
   "id": "5bfd8c367e909d47",
   "outputs": [],
   "execution_count": 8
  },
  {
   "metadata": {
    "id": "c418aab24fb6cd1a"
   },
   "cell_type": "markdown",
   "source": [
    "Loss Functions"
   ],
   "id": "c418aab24fb6cd1a"
  },
  {
   "metadata": {
    "id": "5937ef03469c762",
    "ExecuteTime": {
     "end_time": "2025-02-13T15:32:23.836378Z",
     "start_time": "2025-02-13T15:32:23.822531Z"
    }
   },
   "cell_type": "code",
   "source": [
    "def chamfer_distance(x, y):\n",
    "    \"\"\"\n",
    "    Compute Chamfer Distance between two point clouds x and y.\n",
    "    \"\"\"\n",
    "    x_expanded = x.unsqueeze(2)  # (batch_size, num_points_x, 1, 3)\n",
    "    y_expanded = y.unsqueeze(1)  # (batch_size, 1, num_points_y, 3)\n",
    "    distances = torch.norm(x_expanded - y_expanded, dim=3)  # Pairwise distances\n",
    "    min_dist_x = torch.min(distances, dim=2)[0]\n",
    "    min_dist_y = torch.min(distances, dim=1)[0]\n",
    "    return torch.mean(min_dist_x) + torch.mean(min_dist_y)\n",
    "\n",
    "def kl_divergence(mu, log_sigma):\n",
    "    \"\"\"\n",
    "    Compute the KL divergence between the encoder's latent distribution and a standard Gaussian.\n",
    "    Args:\n",
    "        mu: Mean of the latent distribution (batch_size, latent_dim)\n",
    "        log_sigma: Log of standard deviation (batch_size, latent_dim)\n",
    "    Returns:\n",
    "        kl_loss: The KL divergence loss (scalar)\n",
    "    \"\"\"\n",
    "    kl_loss = -0.5 * torch.sum(1 + log_sigma - mu.pow(2) - log_sigma.exp(), dim=1)\n",
    "    return torch.mean(kl_loss)  # Return the batch mean"
   ],
   "id": "5937ef03469c762",
   "outputs": [],
   "execution_count": 9
  },
  {
   "cell_type": "code",
   "source": [
    "!pip install open3d"
   ],
   "metadata": {
    "colab": {
     "base_uri": "https://localhost:8080/"
    },
    "id": "L6LVz21MN1Lw",
    "outputId": "27ebab2c-6f98-4f4f-d90a-bfcdeaca566e",
    "ExecuteTime": {
     "end_time": "2025-02-13T01:27:22.406581Z",
     "start_time": "2025-02-13T01:27:17.781189Z"
    }
   },
   "id": "L6LVz21MN1Lw",
   "outputs": [
    {
     "name": "stdout",
     "output_type": "stream",
     "text": [
      "Requirement already satisfied: open3d in c:\\users\\admin\\tokyo-pointcloud\\venv\\lib\\site-packages (0.18.0+c0be4a6)\n",
      "Requirement already satisfied: numpy<2.0.0,>=1.18.0 in c:\\users\\admin\\tokyo-pointcloud\\venv\\lib\\site-packages (from open3d) (1.26.4)\n",
      "Requirement already satisfied: dash>=2.6.0 in c:\\users\\admin\\tokyo-pointcloud\\venv\\lib\\site-packages (from open3d) (2.18.2)\n",
      "Requirement already satisfied: werkzeug>=3.0.0 in c:\\users\\admin\\tokyo-pointcloud\\venv\\lib\\site-packages (from open3d) (3.0.6)\n",
      "Requirement already satisfied: flask>=3.0.0 in c:\\users\\admin\\tokyo-pointcloud\\venv\\lib\\site-packages (from open3d) (3.0.3)\n",
      "Requirement already satisfied: nbformat>=5.7.0 in c:\\users\\admin\\tokyo-pointcloud\\venv\\lib\\site-packages (from open3d) (5.10.4)\n",
      "Requirement already satisfied: configargparse in c:\\users\\admin\\tokyo-pointcloud\\venv\\lib\\site-packages (from open3d) (1.7)\n",
      "Requirement already satisfied: ipywidgets>=8.0.4 in c:\\users\\admin\\tokyo-pointcloud\\venv\\lib\\site-packages (from open3d) (8.1.5)\n",
      "Requirement already satisfied: plotly>=5.0.0 in c:\\users\\admin\\tokyo-pointcloud\\venv\\lib\\site-packages (from dash>=2.6.0->open3d) (5.24.1)\n",
      "Requirement already satisfied: dash-html-components==2.0.0 in c:\\users\\admin\\tokyo-pointcloud\\venv\\lib\\site-packages (from dash>=2.6.0->open3d) (2.0.0)\n",
      "Requirement already satisfied: dash-core-components==2.0.0 in c:\\users\\admin\\tokyo-pointcloud\\venv\\lib\\site-packages (from dash>=2.6.0->open3d) (2.0.0)\n",
      "Requirement already satisfied: dash-table==5.0.0 in c:\\users\\admin\\tokyo-pointcloud\\venv\\lib\\site-packages (from dash>=2.6.0->open3d) (5.0.0)\n",
      "Requirement already satisfied: importlib-metadata in c:\\users\\admin\\tokyo-pointcloud\\venv\\lib\\site-packages (from dash>=2.6.0->open3d) (8.5.0)\n",
      "Requirement already satisfied: typing-extensions>=4.1.1 in c:\\users\\admin\\tokyo-pointcloud\\venv\\lib\\site-packages (from dash>=2.6.0->open3d) (4.12.2)\n",
      "Requirement already satisfied: requests in c:\\users\\admin\\tokyo-pointcloud\\venv\\lib\\site-packages (from dash>=2.6.0->open3d) (2.32.3)\n",
      "Requirement already satisfied: retrying in c:\\users\\admin\\tokyo-pointcloud\\venv\\lib\\site-packages (from dash>=2.6.0->open3d) (1.3.4)\n",
      "Requirement already satisfied: nest-asyncio in c:\\users\\admin\\tokyo-pointcloud\\venv\\lib\\site-packages (from dash>=2.6.0->open3d) (1.6.0)\n",
      "Requirement already satisfied: setuptools in c:\\users\\admin\\tokyo-pointcloud\\venv\\lib\\site-packages (from dash>=2.6.0->open3d) (75.6.0)\n",
      "Requirement already satisfied: Jinja2>=3.1.2 in c:\\users\\admin\\tokyo-pointcloud\\venv\\lib\\site-packages (from flask>=3.0.0->open3d) (3.1.5)\n",
      "Requirement already satisfied: itsdangerous>=2.1.2 in c:\\users\\admin\\tokyo-pointcloud\\venv\\lib\\site-packages (from flask>=3.0.0->open3d) (2.2.0)\n",
      "Requirement already satisfied: click>=8.1.3 in c:\\users\\admin\\tokyo-pointcloud\\venv\\lib\\site-packages (from flask>=3.0.0->open3d) (8.1.8)\n",
      "Requirement already satisfied: blinker>=1.6.2 in c:\\users\\admin\\tokyo-pointcloud\\venv\\lib\\site-packages (from flask>=3.0.0->open3d) (1.9.0)\n",
      "Requirement already satisfied: comm>=0.1.3 in c:\\users\\admin\\tokyo-pointcloud\\venv\\lib\\site-packages (from ipywidgets>=8.0.4->open3d) (0.2.2)\n",
      "Requirement already satisfied: ipython>=6.1.0 in c:\\users\\admin\\tokyo-pointcloud\\venv\\lib\\site-packages (from ipywidgets>=8.0.4->open3d) (8.31.0)\n",
      "Requirement already satisfied: traitlets>=4.3.1 in c:\\users\\admin\\tokyo-pointcloud\\venv\\lib\\site-packages (from ipywidgets>=8.0.4->open3d) (5.14.3)\n",
      "Requirement already satisfied: widgetsnbextension~=4.0.12 in c:\\users\\admin\\tokyo-pointcloud\\venv\\lib\\site-packages (from ipywidgets>=8.0.4->open3d) (4.0.13)\n",
      "Requirement already satisfied: jupyterlab-widgets~=3.0.12 in c:\\users\\admin\\tokyo-pointcloud\\venv\\lib\\site-packages (from ipywidgets>=8.0.4->open3d) (3.0.13)\n",
      "Requirement already satisfied: fastjsonschema>=2.15 in c:\\users\\admin\\tokyo-pointcloud\\venv\\lib\\site-packages (from nbformat>=5.7.0->open3d) (2.21.1)\n",
      "Requirement already satisfied: jsonschema>=2.6 in c:\\users\\admin\\tokyo-pointcloud\\venv\\lib\\site-packages (from nbformat>=5.7.0->open3d) (4.23.0)\n",
      "Requirement already satisfied: jupyter-core!=5.0.*,>=4.12 in c:\\users\\admin\\tokyo-pointcloud\\venv\\lib\\site-packages (from nbformat>=5.7.0->open3d) (5.7.2)\n",
      "Requirement already satisfied: MarkupSafe>=2.1.1 in c:\\users\\admin\\tokyo-pointcloud\\venv\\lib\\site-packages (from werkzeug>=3.0.0->open3d) (3.0.2)\n",
      "Requirement already satisfied: colorama in c:\\users\\admin\\tokyo-pointcloud\\venv\\lib\\site-packages (from click>=8.1.3->flask>=3.0.0->open3d) (0.4.6)\n",
      "Requirement already satisfied: decorator in c:\\users\\admin\\tokyo-pointcloud\\venv\\lib\\site-packages (from ipython>=6.1.0->ipywidgets>=8.0.4->open3d) (5.1.1)\n",
      "Requirement already satisfied: jedi>=0.16 in c:\\users\\admin\\tokyo-pointcloud\\venv\\lib\\site-packages (from ipython>=6.1.0->ipywidgets>=8.0.4->open3d) (0.19.2)\n",
      "Requirement already satisfied: matplotlib-inline in c:\\users\\admin\\tokyo-pointcloud\\venv\\lib\\site-packages (from ipython>=6.1.0->ipywidgets>=8.0.4->open3d) (0.1.7)\n",
      "Requirement already satisfied: prompt_toolkit<3.1.0,>=3.0.41 in c:\\users\\admin\\tokyo-pointcloud\\venv\\lib\\site-packages (from ipython>=6.1.0->ipywidgets>=8.0.4->open3d) (3.0.48)\n",
      "Requirement already satisfied: pygments>=2.4.0 in c:\\users\\admin\\tokyo-pointcloud\\venv\\lib\\site-packages (from ipython>=6.1.0->ipywidgets>=8.0.4->open3d) (2.18.0)\n",
      "Requirement already satisfied: stack_data in c:\\users\\admin\\tokyo-pointcloud\\venv\\lib\\site-packages (from ipython>=6.1.0->ipywidgets>=8.0.4->open3d) (0.6.3)\n",
      "Requirement already satisfied: attrs>=22.2.0 in c:\\users\\admin\\tokyo-pointcloud\\venv\\lib\\site-packages (from jsonschema>=2.6->nbformat>=5.7.0->open3d) (24.3.0)\n",
      "Requirement already satisfied: jsonschema-specifications>=2023.03.6 in c:\\users\\admin\\tokyo-pointcloud\\venv\\lib\\site-packages (from jsonschema>=2.6->nbformat>=5.7.0->open3d) (2024.10.1)\n",
      "Requirement already satisfied: referencing>=0.28.4 in c:\\users\\admin\\tokyo-pointcloud\\venv\\lib\\site-packages (from jsonschema>=2.6->nbformat>=5.7.0->open3d) (0.35.1)\n",
      "Requirement already satisfied: rpds-py>=0.7.1 in c:\\users\\admin\\tokyo-pointcloud\\venv\\lib\\site-packages (from jsonschema>=2.6->nbformat>=5.7.0->open3d) (0.22.3)\n",
      "Requirement already satisfied: platformdirs>=2.5 in c:\\users\\admin\\tokyo-pointcloud\\venv\\lib\\site-packages (from jupyter-core!=5.0.*,>=4.12->nbformat>=5.7.0->open3d) (4.3.6)\n",
      "Requirement already satisfied: pywin32>=300 in c:\\users\\admin\\tokyo-pointcloud\\venv\\lib\\site-packages (from jupyter-core!=5.0.*,>=4.12->nbformat>=5.7.0->open3d) (308)\n",
      "Requirement already satisfied: tenacity>=6.2.0 in c:\\users\\admin\\tokyo-pointcloud\\venv\\lib\\site-packages (from plotly>=5.0.0->dash>=2.6.0->open3d) (9.0.0)\n",
      "Requirement already satisfied: packaging in c:\\users\\admin\\tokyo-pointcloud\\venv\\lib\\site-packages (from plotly>=5.0.0->dash>=2.6.0->open3d) (24.2)\n",
      "Requirement already satisfied: zipp>=3.20 in c:\\users\\admin\\tokyo-pointcloud\\venv\\lib\\site-packages (from importlib-metadata->dash>=2.6.0->open3d) (3.21.0)\n",
      "Requirement already satisfied: charset-normalizer<4,>=2 in c:\\users\\admin\\tokyo-pointcloud\\venv\\lib\\site-packages (from requests->dash>=2.6.0->open3d) (3.4.1)\n",
      "Requirement already satisfied: idna<4,>=2.5 in c:\\users\\admin\\tokyo-pointcloud\\venv\\lib\\site-packages (from requests->dash>=2.6.0->open3d) (3.10)\n",
      "Requirement already satisfied: urllib3<3,>=1.21.1 in c:\\users\\admin\\tokyo-pointcloud\\venv\\lib\\site-packages (from requests->dash>=2.6.0->open3d) (2.3.0)\n",
      "Requirement already satisfied: certifi>=2017.4.17 in c:\\users\\admin\\tokyo-pointcloud\\venv\\lib\\site-packages (from requests->dash>=2.6.0->open3d) (2024.12.14)\n",
      "Requirement already satisfied: six>=1.7.0 in c:\\users\\admin\\tokyo-pointcloud\\venv\\lib\\site-packages (from retrying->dash>=2.6.0->open3d) (1.17.0)\n",
      "Requirement already satisfied: parso<0.9.0,>=0.8.4 in c:\\users\\admin\\tokyo-pointcloud\\venv\\lib\\site-packages (from jedi>=0.16->ipython>=6.1.0->ipywidgets>=8.0.4->open3d) (0.8.4)\n",
      "Requirement already satisfied: wcwidth in c:\\users\\admin\\tokyo-pointcloud\\venv\\lib\\site-packages (from prompt_toolkit<3.1.0,>=3.0.41->ipython>=6.1.0->ipywidgets>=8.0.4->open3d) (0.2.13)\n",
      "Requirement already satisfied: executing>=1.2.0 in c:\\users\\admin\\tokyo-pointcloud\\venv\\lib\\site-packages (from stack_data->ipython>=6.1.0->ipywidgets>=8.0.4->open3d) (2.1.0)\n",
      "Requirement already satisfied: asttokens>=2.1.0 in c:\\users\\admin\\tokyo-pointcloud\\venv\\lib\\site-packages (from stack_data->ipython>=6.1.0->ipywidgets>=8.0.4->open3d) (3.0.0)\n",
      "Requirement already satisfied: pure-eval in c:\\users\\admin\\tokyo-pointcloud\\venv\\lib\\site-packages (from stack_data->ipython>=6.1.0->ipywidgets>=8.0.4->open3d) (0.2.3)\n"
     ]
    },
    {
     "name": "stderr",
     "output_type": "stream",
     "text": [
      "\n",
      "[notice] A new release of pip is available: 24.3.1 -> 25.0.1\n",
      "[notice] To update, run: python.exe -m pip install --upgrade pip\n"
     ]
    }
   ],
   "execution_count": 7
  },
  {
   "metadata": {
    "id": "e5489591ca3a5bfe",
    "ExecuteTime": {
     "end_time": "2025-02-13T01:27:24.414998Z",
     "start_time": "2025-02-13T01:27:22.409601Z"
    }
   },
   "cell_type": "code",
   "source": [
    "import torch\n",
    "import torch.utils.data as data\n",
    "import open3d as o3d\n",
    "import os\n",
    "import numpy as np\n",
    "from torch.utils.data import random_split\n",
    "\n",
    "class PointCloudDataset(data.Dataset):\n",
    "    def __init__(self, folder_path, num_points=4096):\n",
    "        self.folder_path = folder_path\n",
    "        self.num_points = num_points\n",
    "        self.files = [f for f in os.listdir(folder_path) if f.endswith('.ply')]\n",
    "\n",
    "    def __len__(self):\n",
    "        return len(self.files)\n",
    "\n",
    "    def __getitem__(self, idx):\n",
    "        file_path = os.path.join(self.folder_path, self.files[idx])\n",
    "        pcd = o3d.io.read_point_cloud(file_path)\n",
    "        points = np.asarray(pcd.points)\n",
    "\n",
    "        # Scale and center the point cloud to fit within a unit cube or sphere:\n",
    "        points -= np.mean(points, axis=0)  # Center\n",
    "        # points /= np.max(np.linalg.norm(points, axis=1))  # I chose not to scale since I would like to see if my latent space can predict for height\n",
    "\n",
    "        # Randomly sample or pad points to ensure uniformity\n",
    "        if points.shape[0] > self.num_points:\n",
    "            indices = np.random.choice(points.shape[0], self.num_points, replace=False)\n",
    "            points = points[indices]\n",
    "        elif points.shape[0] < self.num_points:\n",
    "            pad_size = self.num_points - points.shape[0]\n",
    "            pad_points = np.zeros((pad_size, 3))\n",
    "            points = np.vstack((points, pad_points))\n",
    "\n",
    "        return torch.tensor(points, dtype=torch.float32)\n"
   ],
   "id": "e5489591ca3a5bfe",
   "outputs": [
    {
     "name": "stdout",
     "output_type": "stream",
     "text": [
      "Jupyter environment detected. Enabling Open3D WebVisualizer.\n",
      "[Open3D INFO] WebRTC GUI backend enabled.\n",
      "[Open3D INFO] WebRTCWindowSystem: HTTP handshake server disabled.\n"
     ]
    }
   ],
   "execution_count": 8
  },
  {
   "metadata": {
    "id": "f7eefcfeb45ad53e"
   },
   "cell_type": "markdown",
   "source": [
    "Data Loader"
   ],
   "id": "f7eefcfeb45ad53e"
  },
  {
   "metadata": {
    "id": "a1885fb241f2426",
    "ExecuteTime": {
     "end_time": "2025-02-13T01:27:24.424602Z",
     "start_time": "2025-02-13T01:27:24.418011Z"
    }
   },
   "cell_type": "code",
   "source": [
    "import torch\n",
    "from torch.utils.data import random_split\n",
    "\n",
    "def get_data_loaders(folder_path=\"/content/drive/MyDrive/buildings_pointcloud_ply\",\n",
    "                     num_points=4096,\n",
    "                     batch_size=32,\n",
    "                     train_ratio=0.9,\n",
    "                     random_seed=42):  # Added a seed parameter for reproducibility\n",
    "    # Set the random seed for reproducibility\n",
    "    torch.manual_seed(random_seed)\n",
    "\n",
    "    dataset = PointCloudDataset(folder_path, num_points=num_points)\n",
    "    train_size = int(train_ratio * len(dataset))\n",
    "    test_size = len(dataset) - train_size\n",
    "    train_dataset, test_dataset = random_split(dataset, [train_size, test_size])\n",
    "\n",
    "    train_loader = torch.utils.data.DataLoader(train_dataset, batch_size=batch_size, shuffle=True)\n",
    "    test_loader = torch.utils.data.DataLoader(test_dataset, batch_size=batch_size, shuffle=False)\n",
    "\n",
    "    print(f\"Dataset split: {len(train_dataset)} train samples, {len(test_dataset)} test samples\")\n",
    "    return train_loader, test_loader\n",
    "\n"
   ],
   "id": "a1885fb241f2426",
   "outputs": [],
   "execution_count": 9
  },
  {
   "metadata": {
    "id": "66eeedc6483e5548"
   },
   "cell_type": "markdown",
   "source": [
    "Define Training Loop"
   ],
   "id": "66eeedc6483e5548"
  },
  {
   "metadata": {
    "id": "97f721ebb7ec8945",
    "ExecuteTime": {
     "end_time": "2025-02-13T01:27:25.559999Z",
     "start_time": "2025-02-13T01:27:24.665264Z"
    }
   },
   "cell_type": "code",
   "source": [
    "import matplotlib.pyplot as plt\n",
    "from tqdm import tqdm\n",
    "import torch.optim as optim\n",
    "\n",
    "def train_model(folder_path=\"/content/drive/MyDrive/buildings_pointcloud_ply\",\n",
    "                latent_dim=128,\n",
    "                num_points=4096,\n",
    "                batch_size=16,\n",
    "                num_epochs=50,\n",
    "                learning_rate=0.001,\n",
    "                beta=1.0,\n",
    "                device=\"cpu\"):\n",
    "\n",
    "    # Prepare data\n",
    "    train_loader, test_loader = get_data_loaders(\n",
    "        folder_path=folder_path,\n",
    "        num_points=num_points,\n",
    "        batch_size=batch_size,\n",
    "        train_ratio=0.9\n",
    "    )\n",
    "\n",
    "    # Initialize model\n",
    "    model = PointNetPPAutoencoder(latent_dim=latent_dim, num_points=num_points)\n",
    "    model.to(device)\n",
    "\n",
    "    # Optimizer\n",
    "    optimizer = optim.Adam(model.parameters(), lr=learning_rate)\n",
    "\n",
    "    loss_history = []\n",
    "\n",
    "    print(\"Starting training...\")\n",
    "    for epoch in range(num_epochs):\n",
    "        model.train()\n",
    "        epoch_loss = 0\n",
    "        progress_bar = tqdm(train_loader, desc=f\"Epoch {epoch + 1}/{num_epochs}\")\n",
    "\n",
    "        for batch in progress_bar:\n",
    "            batch = batch.to(device)\n",
    "\n",
    "            optimizer.zero_grad()\n",
    "\n",
    "            # Forward pass (with VAE components)\n",
    "            reconstructed, mu, log_sigma = model(batch)\n",
    "\n",
    "            # Compute losses\n",
    "            recon_loss = chamfer_distance(reconstructed, batch)\n",
    "            kld_loss = kl_divergence(mu, log_sigma)\n",
    "\n",
    "            # Total loss (VAE) (which is equal to B=1)\n",
    "            loss = recon_loss + kld_loss\n",
    "\n",
    "            # Total loss (beta-VAE)\n",
    "            # loss = recon_loss + beta * kld_loss\n",
    "\n",
    "            # Backward pass\n",
    "            loss.backward()\n",
    "            optimizer.step()\n",
    "\n",
    "            epoch_loss += loss.item()\n",
    "            progress_bar.set_postfix({\"Batch Loss\": loss.item()})\n",
    "\n",
    "        avg_epoch_loss = epoch_loss / len(train_loader)\n",
    "        loss_history.append(avg_epoch_loss)\n",
    "        print(f\"Epoch {epoch + 1}/{num_epochs}, Loss: {avg_epoch_loss:.4f}\")\n",
    "\n",
    "        # Save the trained model\n",
    "        model_save_path = \"pointnetpp_VAE.pth\"\n",
    "        torch.save(model.state_dict(), model_save_path)\n",
    "        print(f\"Model saved to {model_save_path}\")\n",
    "\n",
    "\n",
    "\n",
    "    # Plot loss history\n",
    "    plt.figure(figsize=(10, 6))\n",
    "    plt.plot(range(1, num_epochs + 1), loss_history, marker='o', linestyle='-')\n",
    "    plt.title(\"Training Loss Over Epochs (Chamfer + KL)\")\n",
    "    plt.xlabel(\"Epoch\")\n",
    "    plt.ylabel(\"Loss\")\n",
    "    plt.grid()\n",
    "    plt.show()"
   ],
   "id": "97f721ebb7ec8945",
   "outputs": [],
   "execution_count": 10
  },
  {
   "metadata": {
    "id": "85b90f670ce754"
   },
   "cell_type": "markdown",
   "source": [
    "Train"
   ],
   "id": "85b90f670ce754"
  },
  {
   "metadata": {
    "colab": {
     "base_uri": "https://localhost:8080/",
     "height": 1000
    },
    "id": "5085853a66ecc7f6",
    "outputId": "9085a3a4-a3d7-4a5f-932d-2fab3ee9044e"
   },
   "cell_type": "code",
   "outputs": [
    {
     "output_type": "stream",
     "name": "stdout",
     "text": [
      "Dataset split: 3606 train samples, 401 test samples\n",
      "Starting training...\n"
     ]
    },
    {
     "output_type": "stream",
     "name": "stderr",
     "text": [
      "Epoch 1/50: 100%|██████████| 226/226 [48:50<00:00, 12.97s/it, Batch Loss=5.87]\n"
     ]
    },
    {
     "output_type": "stream",
     "name": "stdout",
     "text": [
      "Epoch 1/50, Loss: 5.4949\n",
      "Model saved to pointnetpp_VAE.pth\n"
     ]
    },
    {
     "output_type": "stream",
     "name": "stderr",
     "text": [
      "Epoch 2/50: 100%|██████████| 226/226 [00:22<00:00,  9.86it/s, Batch Loss=6.72]\n"
     ]
    },
    {
     "output_type": "stream",
     "name": "stdout",
     "text": [
      "Epoch 2/50, Loss: 4.9826\n",
      "Model saved to pointnetpp_VAE.pth\n"
     ]
    },
    {
     "output_type": "stream",
     "name": "stderr",
     "text": [
      "Epoch 3/50: 100%|██████████| 226/226 [00:24<00:00,  9.41it/s, Batch Loss=7.43]\n"
     ]
    },
    {
     "output_type": "stream",
     "name": "stdout",
     "text": [
      "Epoch 3/50, Loss: 5.0797\n",
      "Model saved to pointnetpp_VAE.pth\n"
     ]
    },
    {
     "output_type": "stream",
     "name": "stderr",
     "text": [
      "Epoch 4/50: 100%|██████████| 226/226 [00:23<00:00,  9.45it/s, Batch Loss=12.1]\n"
     ]
    },
    {
     "output_type": "stream",
     "name": "stdout",
     "text": [
      "Epoch 4/50, Loss: 4.9152\n",
      "Model saved to pointnetpp_VAE.pth\n"
     ]
    },
    {
     "output_type": "stream",
     "name": "stderr",
     "text": [
      "Epoch 5/50: 100%|██████████| 226/226 [00:23<00:00,  9.52it/s, Batch Loss=4.43]\n"
     ]
    },
    {
     "output_type": "stream",
     "name": "stdout",
     "text": [
      "Epoch 5/50, Loss: 5.0297\n",
      "Model saved to pointnetpp_VAE.pth\n"
     ]
    },
    {
     "output_type": "stream",
     "name": "stderr",
     "text": [
      "Epoch 6/50: 100%|██████████| 226/226 [00:23<00:00,  9.52it/s, Batch Loss=4.74]\n"
     ]
    },
    {
     "output_type": "stream",
     "name": "stdout",
     "text": [
      "Epoch 6/50, Loss: 4.8606\n",
      "Model saved to pointnetpp_VAE.pth\n"
     ]
    },
    {
     "output_type": "stream",
     "name": "stderr",
     "text": [
      "Epoch 7/50: 100%|██████████| 226/226 [00:23<00:00,  9.50it/s, Batch Loss=6.5]\n"
     ]
    },
    {
     "output_type": "stream",
     "name": "stdout",
     "text": [
      "Epoch 7/50, Loss: 4.9394\n",
      "Model saved to pointnetpp_VAE.pth\n"
     ]
    },
    {
     "output_type": "stream",
     "name": "stderr",
     "text": [
      "Epoch 8/50: 100%|██████████| 226/226 [00:23<00:00,  9.56it/s, Batch Loss=4.67]\n"
     ]
    },
    {
     "output_type": "stream",
     "name": "stdout",
     "text": [
      "Epoch 8/50, Loss: 4.8016\n",
      "Model saved to pointnetpp_VAE.pth\n"
     ]
    },
    {
     "output_type": "stream",
     "name": "stderr",
     "text": [
      "Epoch 9/50: 100%|██████████| 226/226 [00:23<00:00,  9.50it/s, Batch Loss=3.31]\n"
     ]
    },
    {
     "output_type": "stream",
     "name": "stdout",
     "text": [
      "Epoch 9/50, Loss: 4.7959\n",
      "Model saved to pointnetpp_VAE.pth\n"
     ]
    },
    {
     "output_type": "stream",
     "name": "stderr",
     "text": [
      "Epoch 10/50: 100%|██████████| 226/226 [00:23<00:00,  9.55it/s, Batch Loss=3.44]\n"
     ]
    },
    {
     "output_type": "stream",
     "name": "stdout",
     "text": [
      "Epoch 10/50, Loss: 4.6817\n",
      "Model saved to pointnetpp_VAE.pth\n"
     ]
    },
    {
     "output_type": "stream",
     "name": "stderr",
     "text": [
      "Epoch 11/50: 100%|██████████| 226/226 [00:23<00:00,  9.72it/s, Batch Loss=2.88]\n"
     ]
    },
    {
     "output_type": "stream",
     "name": "stdout",
     "text": [
      "Epoch 11/50, Loss: 4.7010\n",
      "Model saved to pointnetpp_VAE.pth\n"
     ]
    },
    {
     "output_type": "stream",
     "name": "stderr",
     "text": [
      "Epoch 12/50: 100%|██████████| 226/226 [00:23<00:00,  9.58it/s, Batch Loss=3.65]\n"
     ]
    },
    {
     "output_type": "stream",
     "name": "stdout",
     "text": [
      "Epoch 12/50, Loss: 4.7372\n",
      "Model saved to pointnetpp_VAE.pth\n"
     ]
    },
    {
     "output_type": "stream",
     "name": "stderr",
     "text": [
      "Epoch 13/50: 100%|██████████| 226/226 [00:23<00:00,  9.53it/s, Batch Loss=5.35]\n"
     ]
    },
    {
     "output_type": "stream",
     "name": "stdout",
     "text": [
      "Epoch 13/50, Loss: 4.7096\n",
      "Model saved to pointnetpp_VAE.pth\n"
     ]
    },
    {
     "output_type": "stream",
     "name": "stderr",
     "text": [
      "Epoch 14/50: 100%|██████████| 226/226 [00:23<00:00,  9.55it/s, Batch Loss=3.34]\n"
     ]
    },
    {
     "output_type": "stream",
     "name": "stdout",
     "text": [
      "Epoch 14/50, Loss: 4.6883\n",
      "Model saved to pointnetpp_VAE.pth\n"
     ]
    },
    {
     "output_type": "stream",
     "name": "stderr",
     "text": [
      "Epoch 15/50: 100%|██████████| 226/226 [00:23<00:00,  9.55it/s, Batch Loss=5.02]\n"
     ]
    },
    {
     "output_type": "stream",
     "name": "stdout",
     "text": [
      "Epoch 15/50, Loss: 4.7152\n",
      "Model saved to pointnetpp_VAE.pth\n"
     ]
    },
    {
     "output_type": "stream",
     "name": "stderr",
     "text": [
      "Epoch 16/50: 100%|██████████| 226/226 [00:23<00:00,  9.52it/s, Batch Loss=3.95]\n"
     ]
    },
    {
     "output_type": "stream",
     "name": "stdout",
     "text": [
      "Epoch 16/50, Loss: 4.6784\n",
      "Model saved to pointnetpp_VAE.pth\n"
     ]
    },
    {
     "output_type": "stream",
     "name": "stderr",
     "text": [
      "Epoch 17/50: 100%|██████████| 226/226 [00:23<00:00,  9.75it/s, Batch Loss=3.9]\n"
     ]
    },
    {
     "output_type": "stream",
     "name": "stdout",
     "text": [
      "Epoch 17/50, Loss: 4.6591\n",
      "Model saved to pointnetpp_VAE.pth\n"
     ]
    },
    {
     "output_type": "stream",
     "name": "stderr",
     "text": [
      "Epoch 18/50: 100%|██████████| 226/226 [00:23<00:00,  9.62it/s, Batch Loss=3.32]\n"
     ]
    },
    {
     "output_type": "stream",
     "name": "stdout",
     "text": [
      "Epoch 18/50, Loss: 4.7275\n",
      "Model saved to pointnetpp_VAE.pth\n"
     ]
    },
    {
     "output_type": "stream",
     "name": "stderr",
     "text": [
      "Epoch 19/50: 100%|██████████| 226/226 [00:23<00:00,  9.59it/s, Batch Loss=2.43]\n"
     ]
    },
    {
     "output_type": "stream",
     "name": "stdout",
     "text": [
      "Epoch 19/50, Loss: 4.6416\n",
      "Model saved to pointnetpp_VAE.pth\n"
     ]
    },
    {
     "output_type": "stream",
     "name": "stderr",
     "text": [
      "Epoch 20/50: 100%|██████████| 226/226 [00:23<00:00,  9.62it/s, Batch Loss=3.5]\n"
     ]
    },
    {
     "output_type": "stream",
     "name": "stdout",
     "text": [
      "Epoch 20/50, Loss: 4.6505\n",
      "Model saved to pointnetpp_VAE.pth\n"
     ]
    },
    {
     "output_type": "stream",
     "name": "stderr",
     "text": [
      "Epoch 21/50: 100%|██████████| 226/226 [00:23<00:00,  9.65it/s, Batch Loss=3.14]\n"
     ]
    },
    {
     "output_type": "stream",
     "name": "stdout",
     "text": [
      "Epoch 21/50, Loss: 4.6469\n",
      "Model saved to pointnetpp_VAE.pth\n"
     ]
    },
    {
     "output_type": "stream",
     "name": "stderr",
     "text": [
      "Epoch 22/50: 100%|██████████| 226/226 [00:23<00:00,  9.60it/s, Batch Loss=5.25]\n"
     ]
    },
    {
     "output_type": "stream",
     "name": "stdout",
     "text": [
      "Epoch 22/50, Loss: 4.6665\n",
      "Model saved to pointnetpp_VAE.pth\n"
     ]
    },
    {
     "output_type": "stream",
     "name": "stderr",
     "text": [
      "Epoch 23/50: 100%|██████████| 226/226 [00:23<00:00,  9.62it/s, Batch Loss=5.02]\n"
     ]
    },
    {
     "output_type": "stream",
     "name": "stdout",
     "text": [
      "Epoch 23/50, Loss: 4.6569\n",
      "Model saved to pointnetpp_VAE.pth\n"
     ]
    },
    {
     "output_type": "stream",
     "name": "stderr",
     "text": [
      "Epoch 24/50: 100%|██████████| 226/226 [00:23<00:00,  9.61it/s, Batch Loss=2.72]\n"
     ]
    },
    {
     "output_type": "stream",
     "name": "stdout",
     "text": [
      "Epoch 24/50, Loss: 4.6225\n",
      "Model saved to pointnetpp_VAE.pth\n"
     ]
    },
    {
     "output_type": "stream",
     "name": "stderr",
     "text": [
      "Epoch 25/50: 100%|██████████| 226/226 [00:23<00:00,  9.58it/s, Batch Loss=3.62]\n"
     ]
    },
    {
     "output_type": "stream",
     "name": "stdout",
     "text": [
      "Epoch 25/50, Loss: 4.6415\n",
      "Model saved to pointnetpp_VAE.pth\n"
     ]
    },
    {
     "output_type": "stream",
     "name": "stderr",
     "text": [
      "Epoch 26/50: 100%|██████████| 226/226 [00:23<00:00,  9.59it/s, Batch Loss=4.63]\n"
     ]
    },
    {
     "output_type": "stream",
     "name": "stdout",
     "text": [
      "Epoch 26/50, Loss: 4.6094\n",
      "Model saved to pointnetpp_VAE.pth\n"
     ]
    },
    {
     "output_type": "stream",
     "name": "stderr",
     "text": [
      "Epoch 27/50: 100%|██████████| 226/226 [00:23<00:00,  9.54it/s, Batch Loss=4.23]\n"
     ]
    },
    {
     "output_type": "stream",
     "name": "stdout",
     "text": [
      "Epoch 27/50, Loss: 4.6447\n",
      "Model saved to pointnetpp_VAE.pth\n"
     ]
    },
    {
     "output_type": "stream",
     "name": "stderr",
     "text": [
      "Epoch 28/50: 100%|██████████| 226/226 [00:23<00:00,  9.64it/s, Batch Loss=4.3]\n"
     ]
    },
    {
     "output_type": "stream",
     "name": "stdout",
     "text": [
      "Epoch 28/50, Loss: 4.6859\n",
      "Model saved to pointnetpp_VAE.pth\n"
     ]
    },
    {
     "output_type": "stream",
     "name": "stderr",
     "text": [
      "Epoch 29/50: 100%|██████████| 226/226 [00:23<00:00,  9.51it/s, Batch Loss=5.67]\n"
     ]
    },
    {
     "output_type": "stream",
     "name": "stdout",
     "text": [
      "Epoch 29/50, Loss: 4.6141\n",
      "Model saved to pointnetpp_VAE.pth\n"
     ]
    },
    {
     "output_type": "stream",
     "name": "stderr",
     "text": [
      "Epoch 30/50: 100%|██████████| 226/226 [00:23<00:00,  9.56it/s, Batch Loss=3.69]\n"
     ]
    },
    {
     "output_type": "stream",
     "name": "stdout",
     "text": [
      "Epoch 30/50, Loss: 4.6378\n",
      "Model saved to pointnetpp_VAE.pth\n"
     ]
    },
    {
     "output_type": "stream",
     "name": "stderr",
     "text": [
      "Epoch 31/50: 100%|██████████| 226/226 [00:23<00:00,  9.58it/s, Batch Loss=12.2]\n"
     ]
    },
    {
     "output_type": "stream",
     "name": "stdout",
     "text": [
      "Epoch 31/50, Loss: 4.6368\n",
      "Model saved to pointnetpp_VAE.pth\n"
     ]
    },
    {
     "output_type": "stream",
     "name": "stderr",
     "text": [
      "Epoch 32/50: 100%|██████████| 226/226 [00:23<00:00,  9.57it/s, Batch Loss=3.29]\n"
     ]
    },
    {
     "output_type": "stream",
     "name": "stdout",
     "text": [
      "Epoch 32/50, Loss: 4.6461\n",
      "Model saved to pointnetpp_VAE.pth\n"
     ]
    },
    {
     "output_type": "stream",
     "name": "stderr",
     "text": [
      "Epoch 33/50: 100%|██████████| 226/226 [00:23<00:00,  9.59it/s, Batch Loss=4]\n"
     ]
    },
    {
     "output_type": "stream",
     "name": "stdout",
     "text": [
      "Epoch 33/50, Loss: 4.6188\n",
      "Model saved to pointnetpp_VAE.pth\n"
     ]
    },
    {
     "output_type": "stream",
     "name": "stderr",
     "text": [
      "Epoch 34/50: 100%|██████████| 226/226 [00:23<00:00,  9.55it/s, Batch Loss=3.96]\n"
     ]
    },
    {
     "output_type": "stream",
     "name": "stdout",
     "text": [
      "Epoch 34/50, Loss: 4.5937\n",
      "Model saved to pointnetpp_VAE.pth\n"
     ]
    },
    {
     "output_type": "stream",
     "name": "stderr",
     "text": [
      "Epoch 35/50: 100%|██████████| 226/226 [00:23<00:00,  9.62it/s, Batch Loss=3.15]\n"
     ]
    },
    {
     "output_type": "stream",
     "name": "stdout",
     "text": [
      "Epoch 35/50, Loss: 4.5744\n",
      "Model saved to pointnetpp_VAE.pth\n"
     ]
    },
    {
     "output_type": "stream",
     "name": "stderr",
     "text": [
      "Epoch 36/50: 100%|██████████| 226/226 [00:23<00:00,  9.55it/s, Batch Loss=6.69]\n"
     ]
    },
    {
     "output_type": "stream",
     "name": "stdout",
     "text": [
      "Epoch 36/50, Loss: 4.6877\n",
      "Model saved to pointnetpp_VAE.pth\n"
     ]
    },
    {
     "output_type": "stream",
     "name": "stderr",
     "text": [
      "Epoch 37/50: 100%|██████████| 226/226 [00:23<00:00,  9.58it/s, Batch Loss=3.39]\n"
     ]
    },
    {
     "output_type": "stream",
     "name": "stdout",
     "text": [
      "Epoch 37/50, Loss: 4.6103\n",
      "Model saved to pointnetpp_VAE.pth\n"
     ]
    },
    {
     "output_type": "stream",
     "name": "stderr",
     "text": [
      "Epoch 38/50: 100%|██████████| 226/226 [00:23<00:00,  9.63it/s, Batch Loss=3.17]\n"
     ]
    },
    {
     "output_type": "stream",
     "name": "stdout",
     "text": [
      "Epoch 38/50, Loss: 4.6172\n",
      "Model saved to pointnetpp_VAE.pth\n"
     ]
    },
    {
     "output_type": "stream",
     "name": "stderr",
     "text": [
      "Epoch 39/50: 100%|██████████| 226/226 [00:23<00:00,  9.59it/s, Batch Loss=3.51]\n"
     ]
    },
    {
     "output_type": "stream",
     "name": "stdout",
     "text": [
      "Epoch 39/50, Loss: 4.6195\n",
      "Model saved to pointnetpp_VAE.pth\n"
     ]
    },
    {
     "output_type": "stream",
     "name": "stderr",
     "text": [
      "Epoch 40/50: 100%|██████████| 226/226 [00:23<00:00,  9.68it/s, Batch Loss=7.05]\n"
     ]
    },
    {
     "output_type": "stream",
     "name": "stdout",
     "text": [
      "Epoch 40/50, Loss: 4.6070\n",
      "Model saved to pointnetpp_VAE.pth\n"
     ]
    },
    {
     "output_type": "stream",
     "name": "stderr",
     "text": [
      "Epoch 41/50: 100%|██████████| 226/226 [00:23<00:00,  9.57it/s, Batch Loss=6.1]\n"
     ]
    },
    {
     "output_type": "stream",
     "name": "stdout",
     "text": [
      "Epoch 41/50, Loss: 4.6137\n",
      "Model saved to pointnetpp_VAE.pth\n"
     ]
    },
    {
     "output_type": "stream",
     "name": "stderr",
     "text": [
      "Epoch 42/50: 100%|██████████| 226/226 [00:23<00:00,  9.57it/s, Batch Loss=9.97]\n"
     ]
    },
    {
     "output_type": "stream",
     "name": "stdout",
     "text": [
      "Epoch 42/50, Loss: 4.5620\n",
      "Model saved to pointnetpp_VAE.pth\n"
     ]
    },
    {
     "output_type": "stream",
     "name": "stderr",
     "text": [
      "Epoch 43/50: 100%|██████████| 226/226 [00:23<00:00,  9.61it/s, Batch Loss=4.48]\n"
     ]
    },
    {
     "output_type": "stream",
     "name": "stdout",
     "text": [
      "Epoch 43/50, Loss: 4.6115\n",
      "Model saved to pointnetpp_VAE.pth\n"
     ]
    },
    {
     "output_type": "stream",
     "name": "stderr",
     "text": [
      "Epoch 44/50: 100%|██████████| 226/226 [00:23<00:00,  9.59it/s, Batch Loss=4.28]\n"
     ]
    },
    {
     "output_type": "stream",
     "name": "stdout",
     "text": [
      "Epoch 44/50, Loss: 4.6042\n",
      "Model saved to pointnetpp_VAE.pth\n"
     ]
    },
    {
     "output_type": "stream",
     "name": "stderr",
     "text": [
      "Epoch 45/50: 100%|██████████| 226/226 [00:23<00:00,  9.69it/s, Batch Loss=3.51]\n"
     ]
    },
    {
     "output_type": "stream",
     "name": "stdout",
     "text": [
      "Epoch 45/50, Loss: 4.5717\n",
      "Model saved to pointnetpp_VAE.pth\n"
     ]
    },
    {
     "output_type": "stream",
     "name": "stderr",
     "text": [
      "Epoch 46/50: 100%|██████████| 226/226 [00:23<00:00,  9.59it/s, Batch Loss=4.07]\n"
     ]
    },
    {
     "output_type": "stream",
     "name": "stdout",
     "text": [
      "Epoch 46/50, Loss: 4.5837\n",
      "Model saved to pointnetpp_VAE.pth\n"
     ]
    },
    {
     "output_type": "stream",
     "name": "stderr",
     "text": [
      "Epoch 47/50: 100%|██████████| 226/226 [00:23<00:00,  9.62it/s, Batch Loss=3.84]\n"
     ]
    },
    {
     "output_type": "stream",
     "name": "stdout",
     "text": [
      "Epoch 47/50, Loss: 4.5335\n",
      "Model saved to pointnetpp_VAE.pth\n"
     ]
    },
    {
     "output_type": "stream",
     "name": "stderr",
     "text": [
      "Epoch 48/50: 100%|██████████| 226/226 [00:23<00:00,  9.57it/s, Batch Loss=4.33]\n"
     ]
    },
    {
     "output_type": "stream",
     "name": "stdout",
     "text": [
      "Epoch 48/50, Loss: 4.5788\n",
      "Model saved to pointnetpp_VAE.pth\n"
     ]
    },
    {
     "output_type": "stream",
     "name": "stderr",
     "text": [
      "Epoch 49/50: 100%|██████████| 226/226 [00:23<00:00,  9.61it/s, Batch Loss=3.39]\n"
     ]
    },
    {
     "output_type": "stream",
     "name": "stdout",
     "text": [
      "Epoch 49/50, Loss: 4.5961\n",
      "Model saved to pointnetpp_VAE.pth\n"
     ]
    },
    {
     "output_type": "stream",
     "name": "stderr",
     "text": [
      "Epoch 50/50: 100%|██████████| 226/226 [00:23<00:00,  9.60it/s, Batch Loss=4.14]\n"
     ]
    },
    {
     "output_type": "stream",
     "name": "stdout",
     "text": [
      "Epoch 50/50, Loss: 4.5606\n",
      "Model saved to pointnetpp_VAE.pth\n"
     ]
    },
    {
     "output_type": "display_data",
     "data": {
      "text/plain": [
       "<Figure size 1000x600 with 1 Axes>"
      ],
      "image/png": "[encoded data removed]"
     },
     "metadata": {}
    }
   ],
   "execution_count": 16,
   "source": [
    "train_model(\n",
    "    folder_path=\"/content/drive/MyDrive/buildings_pointcloud_ply\",\n",
    "    latent_dim=128,\n",
    "    num_points=4096,\n",
    "    batch_size=16,\n",
    "    num_epochs=50,\n",
    "    learning_rate=0.001,\n",
    "    beta=1.0,\n",
    "    device=\"cuda\"  # or \"cuda\" if you have a GPU\n",
    ")"
   ],
   "id": "5085853a66ecc7f6"
  },
  {
   "metadata": {
    "ExecuteTime": {
     "end_time": "2025-02-13T01:27:46.687129Z",
     "start_time": "2025-02-13T01:27:46.675227Z"
    }
   },
   "cell_type": "code",
   "source": [
    "import numpy as np\n",
    "import open3d as o3d\n",
    "import torch\n",
    "\n",
    "def visualize_input_and_reconstructed(model, test_loader, device=\"cpu\"):\n",
    "    model.eval()\n",
    "\n",
    "    with torch.no_grad():\n",
    "        # Get the first batch from the test_loader\n",
    "        for batch in test_loader:\n",
    "            # Shape of batch: (batch_size, num_points, 3)\n",
    "            batch = batch.to(device)\n",
    "            break  # Just get the first batch\n",
    "\n",
    "        # Let's visualize the first point cloud in this batch\n",
    "        input_pc = batch[0]  # shape: (num_points, 3)\n",
    "        input_np = input_pc.cpu().numpy()  # Convert to numpy for open3d\n",
    "\n",
    "        # Encode and decode the point cloud\n",
    "        mu, log_sigma = model.encoder(input_pc.unsqueeze(0))  # add batch dim => (1, num_points, 3)\n",
    "        z = reparameterize(mu, log_sigma)\n",
    "        reconstructed = model.decoder(z)  # shape: (1, num_points, 3)\n",
    "\n",
    "        # Convert reconstructed to numpy\n",
    "        reconstructed_np = reconstructed[0].cpu().numpy()\n",
    "\n",
    "    # Create Open3D point cloud for the input\n",
    "    pcd_input = o3d.geometry.PointCloud()\n",
    "    pcd_input.points = o3d.utility.Vector3dVector(input_np)\n",
    "    # Color the input cloud red\n",
    "    pcd_input.paint_uniform_color([1.0, 0.0, 0.0])\n",
    "\n",
    "    # Create Open3D point cloud for the reconstructed shape\n",
    "    pcd_reconstructed = o3d.geometry.PointCloud()\n",
    "    pcd_reconstructed.points = o3d.utility.Vector3dVector(reconstructed_np)\n",
    "    # Color the reconstructed cloud green\n",
    "    pcd_reconstructed.paint_uniform_color([0.0, 1.0, 0.0])\n",
    "\n",
    "    # (Optional) Shift the reconstructed cloud so it’s easier to see side by side\n",
    "    shift_along_x = 1.0\n",
    "    pcd_reconstructed.translate((shift_along_x, 0, 0))\n",
    "\n",
    "    # Visualize both point clouds together\n",
    "    o3d.visualization.draw_geometries([pcd_input, pcd_reconstructed])"
   ],
   "id": "2a919bae36ec64a1",
   "outputs": [],
   "execution_count": 11
  },
  {
   "cell_type": "code",
   "source": [
    "import open3d as o3d\n",
    "import torch\n",
    "\n",
    "model = PointNetPPAutoencoder(latent_dim=128, num_points=4096)\n",
    "model.load_state_dict(torch.load(\"pointnetpp_VAE_with_Distance_Loss.pth\", map_location=torch.device(\"cpu\")))\n",
    "\n",
    "model.to(\"cpu\")  # or \"cuda\"\n",
    "\n",
    "train_loader, test_loader = get_data_loaders(\n",
    "    folder_path=r\"C:\\Users\\Admin\\PycharmProjects\\AI-Projects\\Tokyo-PointCloud\\buildings_pointcloud_ply\",\n",
    "    num_points=4096,\n",
    "    batch_size=4,  # or 1, if you want just one per batch\n",
    "    train_ratio=0.9\n",
    ")\n",
    "\n",
    "visualize_input_and_reconstructed(model, test_loader, device=\"cpu\")"
   ],
   "metadata": {
    "colab": {
     "base_uri": "https://localhost:8080/"
    },
    "id": "UlFB72w3e5yY",
    "outputId": "adc9212b-192d-40cd-ba7c-6392a4668f6c",
    "ExecuteTime": {
     "end_time": "2025-02-13T01:35:58.729140Z",
     "start_time": "2025-02-13T01:34:16.777447Z"
    }
   },
   "id": "UlFB72w3e5yY",
   "outputs": [
    {
     "name": "stdout",
     "output_type": "stream",
     "text": [
      "Dataset split: 3606 train samples, 401 test samples\n",
      "[Open3D WARNING] GLFW Error: WGL: Failed to make context current: The handle is invalid. \n",
      "[Open3D WARNING] GLFW Error: WGL: Failed to make context current: The handle is invalid. \n"
     ]
    }
   ],
   "execution_count": 15
  },
  {
   "cell_type": "code",
   "source": [
    "import torch\n",
    "import numpy as np\n",
    "from sklearn.manifold import TSNE\n",
    "import matplotlib.pyplot as plt\n",
    "\n",
    "# ---------------------------\n",
    "# 1. Load your trained (beta-)VAE model\n",
    "# ---------------------------\n",
    "\n",
    "# Load model\n",
    "model = PointNetPPAutoencoder(latent_dim=128, num_points=4096)\n",
    "model.load_state_dict(torch.load('pointnetpp_VAE.pth'))\n",
    "model = model.to('cuda')  # Ensure the model is moved to GPU\n",
    "model.eval()\n",
    "\n",
    "# ---------------------------\n",
    "# 2. Prepare (or load) the dataset\n",
    "# ---------------------------\n",
    "# Assuming train_loader yields only `inputs`, which are point clouds.\n",
    "all_latents = []\n",
    "\n",
    "for inputs in train_loader:  # No labels\n",
    "    inputs = inputs.to('cuda')  # Use 'cuda' if you have a GPU and the model is on GPU\n",
    "    with torch.no_grad():\n",
    "        z_mean, z_logvar = model.encoder(inputs)  # Call the encoder directly\n",
    "\n",
    "        # Sample from Gaussian distribution using reparameterization trick\n",
    "        std = torch.exp(0.5 * z_logvar)\n",
    "        eps = torch.randn_like(std)  # Gaussian noise\n",
    "        z_vec = z_mean + eps * std  # Sampled latent vector\n",
    "\n",
    "    all_latents.append(z_vec.cpu().numpy())\n",
    "\n",
    "all_latents = np.concatenate(all_latents, axis=0)  # shape: (N, latent_dim)\n",
    "\n",
    "# ---------------------------\n",
    "# 3. Apply t-SNE (or UMAP) to reduce dimensionality\n",
    "# ---------------------------\n",
    "tsne = TSNE(n_components=2, random_state=42)\n",
    "latents_2d = tsne.fit_transform(all_latents)  # shape: (N, 2)\n",
    "\n",
    "# ---------------------------\n",
    "# 4. Plot the 2D t-SNE results\n",
    "# ---------------------------\n",
    "plt.figure(figsize=(8, 6))\n",
    "plt.scatter(latents_2d[:, 0], latents_2d[:, 1], s=5)  # No labels, so just plot the points\n",
    "plt.title(\"Latent Space Visualization (t-SNE)\")\n",
    "plt.xlabel(\"t-SNE Dim 1\")\n",
    "plt.ylabel(\"t-SNE Dim 2\")\n",
    "plt.show()"
   ],
   "metadata": {
    "colab": {
     "base_uri": "https://localhost:8080/",
     "height": 619
    },
    "id": "ptODu-K4eq4i",
    "outputId": "990e097e-b537-463b-8f6b-0f94ea51a26c",
    "ExecuteTime": {
     "end_time": "2025-01-28T00:33:43.341822Z",
     "start_time": "2025-01-28T00:33:37.563865Z"
    }
   },
   "id": "ptODu-K4eq4i",
   "outputs": [
    {
     "name": "stderr",
     "output_type": "stream",
     "text": [
      "C:\\Users\\Admin\\AppData\\Local\\Temp\\ipykernel_23424\\1931494308.py:12: FutureWarning: You are using `torch.load` with `weights_only=False` (the current default value), which uses the default pickle module implicitly. It is possible to construct malicious pickle data which will execute arbitrary code during unpickling (See https://github.com/pytorch/pytorch/blob/main/SECURITY.md#untrusted-models for more details). In a future release, the default value for `weights_only` will be flipped to `True`. This limits the functions that could be executed during unpickling. Arbitrary objects will no longer be allowed to be loaded via this mode unless they are explicitly allowlisted by the user via `torch.serialization.add_safe_globals`. We recommend you start setting `weights_only=True` for any use case where you don't have full control of the loaded file. Please open an issue on GitHub for any issues related to this experimental feature.\n",
      "  model.load_state_dict(torch.load('pointnetpp_VAE.pth'))\n"
     ]
    },
    {
     "ename": "RuntimeError",
     "evalue": "Attempting to deserialize object on a CUDA device but torch.cuda.is_available() is False. If you are running on a CPU-only machine, please use torch.load with map_location=torch.device('cpu') to map your storages to the CPU.",
     "output_type": "error",
     "traceback": [
      "\u001B[1;31m---------------------------------------------------------------------------\u001B[0m",
      "\u001B[1;31mRuntimeError\u001B[0m                              Traceback (most recent call last)",
      "Cell \u001B[1;32mIn[12], line 12\u001B[0m\n\u001B[0;32m      6\u001B[0m \u001B[38;5;66;03m# ---------------------------\u001B[39;00m\n\u001B[0;32m      7\u001B[0m \u001B[38;5;66;03m# 1. Load your trained (beta-)VAE model\u001B[39;00m\n\u001B[0;32m      8\u001B[0m \u001B[38;5;66;03m# ---------------------------\u001B[39;00m\n\u001B[0;32m      9\u001B[0m \n\u001B[0;32m     10\u001B[0m \u001B[38;5;66;03m# Load model\u001B[39;00m\n\u001B[0;32m     11\u001B[0m model \u001B[38;5;241m=\u001B[39m PointNetPPAutoencoder(latent_dim\u001B[38;5;241m=\u001B[39m\u001B[38;5;241m128\u001B[39m, num_points\u001B[38;5;241m=\u001B[39m\u001B[38;5;241m4096\u001B[39m)\n\u001B[1;32m---> 12\u001B[0m model\u001B[38;5;241m.\u001B[39mload_state_dict(\u001B[43mtorch\u001B[49m\u001B[38;5;241;43m.\u001B[39;49m\u001B[43mload\u001B[49m\u001B[43m(\u001B[49m\u001B[38;5;124;43m'\u001B[39;49m\u001B[38;5;124;43mpointnetpp_VAE.pth\u001B[39;49m\u001B[38;5;124;43m'\u001B[39;49m\u001B[43m)\u001B[49m)\n\u001B[0;32m     13\u001B[0m model \u001B[38;5;241m=\u001B[39m model\u001B[38;5;241m.\u001B[39mto(\u001B[38;5;124m'\u001B[39m\u001B[38;5;124mcuda\u001B[39m\u001B[38;5;124m'\u001B[39m)  \u001B[38;5;66;03m# Ensure the model is moved to GPU\u001B[39;00m\n\u001B[0;32m     14\u001B[0m model\u001B[38;5;241m.\u001B[39meval()\n",
      "File \u001B[1;32m~\\Tokyo-PointCloud\\venv\\Lib\\site-packages\\torch\\serialization.py:1360\u001B[0m, in \u001B[0;36mload\u001B[1;34m(f, map_location, pickle_module, weights_only, mmap, **pickle_load_args)\u001B[0m\n\u001B[0;32m   1358\u001B[0m             \u001B[38;5;28;01mexcept\u001B[39;00m pickle\u001B[38;5;241m.\u001B[39mUnpicklingError \u001B[38;5;28;01mas\u001B[39;00m e:\n\u001B[0;32m   1359\u001B[0m                 \u001B[38;5;28;01mraise\u001B[39;00m pickle\u001B[38;5;241m.\u001B[39mUnpicklingError(_get_wo_message(\u001B[38;5;28mstr\u001B[39m(e))) \u001B[38;5;28;01mfrom\u001B[39;00m \u001B[38;5;28;01mNone\u001B[39;00m\n\u001B[1;32m-> 1360\u001B[0m         \u001B[38;5;28;01mreturn\u001B[39;00m \u001B[43m_load\u001B[49m\u001B[43m(\u001B[49m\n\u001B[0;32m   1361\u001B[0m \u001B[43m            \u001B[49m\u001B[43mopened_zipfile\u001B[49m\u001B[43m,\u001B[49m\n\u001B[0;32m   1362\u001B[0m \u001B[43m            \u001B[49m\u001B[43mmap_location\u001B[49m\u001B[43m,\u001B[49m\n\u001B[0;32m   1363\u001B[0m \u001B[43m            \u001B[49m\u001B[43mpickle_module\u001B[49m\u001B[43m,\u001B[49m\n\u001B[0;32m   1364\u001B[0m \u001B[43m            \u001B[49m\u001B[43moverall_storage\u001B[49m\u001B[38;5;241;43m=\u001B[39;49m\u001B[43moverall_storage\u001B[49m\u001B[43m,\u001B[49m\n\u001B[0;32m   1365\u001B[0m \u001B[43m            \u001B[49m\u001B[38;5;241;43m*\u001B[39;49m\u001B[38;5;241;43m*\u001B[39;49m\u001B[43mpickle_load_args\u001B[49m\u001B[43m,\u001B[49m\n\u001B[0;32m   1366\u001B[0m \u001B[43m        \u001B[49m\u001B[43m)\u001B[49m\n\u001B[0;32m   1367\u001B[0m \u001B[38;5;28;01mif\u001B[39;00m mmap:\n\u001B[0;32m   1368\u001B[0m     f_name \u001B[38;5;241m=\u001B[39m \u001B[38;5;124m\"\u001B[39m\u001B[38;5;124m\"\u001B[39m \u001B[38;5;28;01mif\u001B[39;00m \u001B[38;5;129;01mnot\u001B[39;00m \u001B[38;5;28misinstance\u001B[39m(f, \u001B[38;5;28mstr\u001B[39m) \u001B[38;5;28;01melse\u001B[39;00m \u001B[38;5;124mf\u001B[39m\u001B[38;5;124m\"\u001B[39m\u001B[38;5;132;01m{\u001B[39;00mf\u001B[38;5;132;01m}\u001B[39;00m\u001B[38;5;124m, \u001B[39m\u001B[38;5;124m\"\u001B[39m\n",
      "File \u001B[1;32m~\\Tokyo-PointCloud\\venv\\Lib\\site-packages\\torch\\serialization.py:1848\u001B[0m, in \u001B[0;36m_load\u001B[1;34m(zip_file, map_location, pickle_module, pickle_file, overall_storage, **pickle_load_args)\u001B[0m\n\u001B[0;32m   1846\u001B[0m \u001B[38;5;28;01mglobal\u001B[39;00m _serialization_tls\n\u001B[0;32m   1847\u001B[0m _serialization_tls\u001B[38;5;241m.\u001B[39mmap_location \u001B[38;5;241m=\u001B[39m map_location\n\u001B[1;32m-> 1848\u001B[0m result \u001B[38;5;241m=\u001B[39m \u001B[43munpickler\u001B[49m\u001B[38;5;241;43m.\u001B[39;49m\u001B[43mload\u001B[49m\u001B[43m(\u001B[49m\u001B[43m)\u001B[49m\n\u001B[0;32m   1849\u001B[0m _serialization_tls\u001B[38;5;241m.\u001B[39mmap_location \u001B[38;5;241m=\u001B[39m \u001B[38;5;28;01mNone\u001B[39;00m\n\u001B[0;32m   1851\u001B[0m torch\u001B[38;5;241m.\u001B[39m_utils\u001B[38;5;241m.\u001B[39m_validate_loaded_sparse_tensors()\n",
      "File \u001B[1;32m~\\Tokyo-PointCloud\\venv\\Lib\\site-packages\\torch\\serialization.py:1812\u001B[0m, in \u001B[0;36m_load.<locals>.persistent_load\u001B[1;34m(saved_id)\u001B[0m\n\u001B[0;32m   1810\u001B[0m \u001B[38;5;28;01melse\u001B[39;00m:\n\u001B[0;32m   1811\u001B[0m     nbytes \u001B[38;5;241m=\u001B[39m numel \u001B[38;5;241m*\u001B[39m torch\u001B[38;5;241m.\u001B[39m_utils\u001B[38;5;241m.\u001B[39m_element_size(dtype)\n\u001B[1;32m-> 1812\u001B[0m     typed_storage \u001B[38;5;241m=\u001B[39m \u001B[43mload_tensor\u001B[49m\u001B[43m(\u001B[49m\n\u001B[0;32m   1813\u001B[0m \u001B[43m        \u001B[49m\u001B[43mdtype\u001B[49m\u001B[43m,\u001B[49m\u001B[43m \u001B[49m\u001B[43mnbytes\u001B[49m\u001B[43m,\u001B[49m\u001B[43m \u001B[49m\u001B[43mkey\u001B[49m\u001B[43m,\u001B[49m\u001B[43m \u001B[49m\u001B[43m_maybe_decode_ascii\u001B[49m\u001B[43m(\u001B[49m\u001B[43mlocation\u001B[49m\u001B[43m)\u001B[49m\n\u001B[0;32m   1814\u001B[0m \u001B[43m    \u001B[49m\u001B[43m)\u001B[49m\n\u001B[0;32m   1816\u001B[0m \u001B[38;5;28;01mreturn\u001B[39;00m typed_storage\n",
      "File \u001B[1;32m~\\Tokyo-PointCloud\\venv\\Lib\\site-packages\\torch\\serialization.py:1784\u001B[0m, in \u001B[0;36m_load.<locals>.load_tensor\u001B[1;34m(dtype, numel, key, location)\u001B[0m\n\u001B[0;32m   1779\u001B[0m         storage\u001B[38;5;241m.\u001B[39mbyteswap(dtype)\n\u001B[0;32m   1781\u001B[0m \u001B[38;5;66;03m# TODO: Once we decide to break serialization FC, we can\u001B[39;00m\n\u001B[0;32m   1782\u001B[0m \u001B[38;5;66;03m# stop wrapping with TypedStorage\u001B[39;00m\n\u001B[0;32m   1783\u001B[0m typed_storage \u001B[38;5;241m=\u001B[39m torch\u001B[38;5;241m.\u001B[39mstorage\u001B[38;5;241m.\u001B[39mTypedStorage(\n\u001B[1;32m-> 1784\u001B[0m     wrap_storage\u001B[38;5;241m=\u001B[39m\u001B[43mrestore_location\u001B[49m\u001B[43m(\u001B[49m\u001B[43mstorage\u001B[49m\u001B[43m,\u001B[49m\u001B[43m \u001B[49m\u001B[43mlocation\u001B[49m\u001B[43m)\u001B[49m,\n\u001B[0;32m   1785\u001B[0m     dtype\u001B[38;5;241m=\u001B[39mdtype,\n\u001B[0;32m   1786\u001B[0m     _internal\u001B[38;5;241m=\u001B[39m\u001B[38;5;28;01mTrue\u001B[39;00m,\n\u001B[0;32m   1787\u001B[0m )\n\u001B[0;32m   1789\u001B[0m \u001B[38;5;28;01mif\u001B[39;00m typed_storage\u001B[38;5;241m.\u001B[39m_data_ptr() \u001B[38;5;241m!=\u001B[39m \u001B[38;5;241m0\u001B[39m:\n\u001B[0;32m   1790\u001B[0m     loaded_storages[key] \u001B[38;5;241m=\u001B[39m typed_storage\n",
      "File \u001B[1;32m~\\Tokyo-PointCloud\\venv\\Lib\\site-packages\\torch\\serialization.py:601\u001B[0m, in \u001B[0;36mdefault_restore_location\u001B[1;34m(storage, location)\u001B[0m\n\u001B[0;32m    581\u001B[0m \u001B[38;5;250m\u001B[39m\u001B[38;5;124;03m\"\"\"\u001B[39;00m\n\u001B[0;32m    582\u001B[0m \u001B[38;5;124;03mRestores `storage` using a deserializer function registered for the `location`.\u001B[39;00m\n\u001B[0;32m    583\u001B[0m \n\u001B[1;32m   (...)\u001B[0m\n\u001B[0;32m    598\u001B[0m \u001B[38;5;124;03m       all matching ones return `None`.\u001B[39;00m\n\u001B[0;32m    599\u001B[0m \u001B[38;5;124;03m\"\"\"\u001B[39;00m\n\u001B[0;32m    600\u001B[0m \u001B[38;5;28;01mfor\u001B[39;00m _, _, fn \u001B[38;5;129;01min\u001B[39;00m _package_registry:\n\u001B[1;32m--> 601\u001B[0m     result \u001B[38;5;241m=\u001B[39m \u001B[43mfn\u001B[49m\u001B[43m(\u001B[49m\u001B[43mstorage\u001B[49m\u001B[43m,\u001B[49m\u001B[43m \u001B[49m\u001B[43mlocation\u001B[49m\u001B[43m)\u001B[49m\n\u001B[0;32m    602\u001B[0m     \u001B[38;5;28;01mif\u001B[39;00m result \u001B[38;5;129;01mis\u001B[39;00m \u001B[38;5;129;01mnot\u001B[39;00m \u001B[38;5;28;01mNone\u001B[39;00m:\n\u001B[0;32m    603\u001B[0m         \u001B[38;5;28;01mreturn\u001B[39;00m result\n",
      "File \u001B[1;32m~\\Tokyo-PointCloud\\venv\\Lib\\site-packages\\torch\\serialization.py:539\u001B[0m, in \u001B[0;36m_deserialize\u001B[1;34m(backend_name, obj, location)\u001B[0m\n\u001B[0;32m    537\u001B[0m     backend_name \u001B[38;5;241m=\u001B[39m torch\u001B[38;5;241m.\u001B[39m_C\u001B[38;5;241m.\u001B[39m_get_privateuse1_backend_name()\n\u001B[0;32m    538\u001B[0m \u001B[38;5;28;01mif\u001B[39;00m location\u001B[38;5;241m.\u001B[39mstartswith(backend_name):\n\u001B[1;32m--> 539\u001B[0m     device \u001B[38;5;241m=\u001B[39m \u001B[43m_validate_device\u001B[49m\u001B[43m(\u001B[49m\u001B[43mlocation\u001B[49m\u001B[43m,\u001B[49m\u001B[43m \u001B[49m\u001B[43mbackend_name\u001B[49m\u001B[43m)\u001B[49m\n\u001B[0;32m    540\u001B[0m     \u001B[38;5;28;01mreturn\u001B[39;00m obj\u001B[38;5;241m.\u001B[39mto(device\u001B[38;5;241m=\u001B[39mdevice)\n",
      "File \u001B[1;32m~\\Tokyo-PointCloud\\venv\\Lib\\site-packages\\torch\\serialization.py:508\u001B[0m, in \u001B[0;36m_validate_device\u001B[1;34m(location, backend_name)\u001B[0m\n\u001B[0;32m    506\u001B[0m     device_index \u001B[38;5;241m=\u001B[39m device\u001B[38;5;241m.\u001B[39mindex \u001B[38;5;28;01mif\u001B[39;00m device\u001B[38;5;241m.\u001B[39mindex \u001B[38;5;28;01melse\u001B[39;00m \u001B[38;5;241m0\u001B[39m\n\u001B[0;32m    507\u001B[0m \u001B[38;5;28;01mif\u001B[39;00m \u001B[38;5;28mhasattr\u001B[39m(device_module, \u001B[38;5;124m\"\u001B[39m\u001B[38;5;124mis_available\u001B[39m\u001B[38;5;124m\"\u001B[39m) \u001B[38;5;129;01mand\u001B[39;00m \u001B[38;5;129;01mnot\u001B[39;00m device_module\u001B[38;5;241m.\u001B[39mis_available():\n\u001B[1;32m--> 508\u001B[0m     \u001B[38;5;28;01mraise\u001B[39;00m \u001B[38;5;167;01mRuntimeError\u001B[39;00m(\n\u001B[0;32m    509\u001B[0m         \u001B[38;5;124mf\u001B[39m\u001B[38;5;124m\"\u001B[39m\u001B[38;5;124mAttempting to deserialize object on a \u001B[39m\u001B[38;5;132;01m{\u001B[39;00mbackend_name\u001B[38;5;241m.\u001B[39mupper()\u001B[38;5;132;01m}\u001B[39;00m\u001B[38;5;124m \u001B[39m\u001B[38;5;124m\"\u001B[39m\n\u001B[0;32m    510\u001B[0m         \u001B[38;5;124mf\u001B[39m\u001B[38;5;124m\"\u001B[39m\u001B[38;5;124mdevice but torch.\u001B[39m\u001B[38;5;132;01m{\u001B[39;00mbackend_name\u001B[38;5;132;01m}\u001B[39;00m\u001B[38;5;124m.is_available() is False. \u001B[39m\u001B[38;5;124m\"\u001B[39m\n\u001B[0;32m    511\u001B[0m         \u001B[38;5;124m\"\u001B[39m\u001B[38;5;124mIf you are running on a CPU-only machine, \u001B[39m\u001B[38;5;124m\"\u001B[39m\n\u001B[0;32m    512\u001B[0m         \u001B[38;5;124m\"\u001B[39m\u001B[38;5;124mplease use torch.load with map_location=torch.device(\u001B[39m\u001B[38;5;124m'\u001B[39m\u001B[38;5;124mcpu\u001B[39m\u001B[38;5;124m'\u001B[39m\u001B[38;5;124m) \u001B[39m\u001B[38;5;124m\"\u001B[39m\n\u001B[0;32m    513\u001B[0m         \u001B[38;5;124m\"\u001B[39m\u001B[38;5;124mto map your storages to the CPU.\u001B[39m\u001B[38;5;124m\"\u001B[39m\n\u001B[0;32m    514\u001B[0m     )\n\u001B[0;32m    515\u001B[0m \u001B[38;5;28;01mif\u001B[39;00m \u001B[38;5;28mhasattr\u001B[39m(device_module, \u001B[38;5;124m\"\u001B[39m\u001B[38;5;124mdevice_count\u001B[39m\u001B[38;5;124m\"\u001B[39m):\n\u001B[0;32m    516\u001B[0m     device_count \u001B[38;5;241m=\u001B[39m device_module\u001B[38;5;241m.\u001B[39mdevice_count()\n",
      "\u001B[1;31mRuntimeError\u001B[0m: Attempting to deserialize object on a CUDA device but torch.cuda.is_available() is False. If you are running on a CPU-only machine, please use torch.load with map_location=torch.device('cpu') to map your storages to the CPU."
     ]
    }
   ],
   "execution_count": 12
  },
  {
   "metadata": {
    "ExecuteTime": {
     "end_time": "2025-02-13T15:38:41.003530Z",
     "start_time": "2025-02-13T15:38:31.233279Z"
    }
   },
   "cell_type": "code",
   "source": [
    "model = PointNetPPAutoencoder(latent_dim=128, num_points=4096)\n",
    "model.load_state_dict(torch.load(\"pointnetpp_VAE.pth\", map_location=torch.device('cpu')))\n",
    "model.eval()\n",
    "dummy_input = torch.randn(1, 4096, 3)  # Adjust input shape based on your model\n",
    "torch.onnx.export(model, dummy_input, \"model.onnx\", opset_version=11, input_names=[\"input\"], output_names=[\"output\"])\n"
   ],
   "id": "98605b82261f56a5",
   "outputs": [],
   "execution_count": 12
  },
  {
   "metadata": {},
   "cell_type": "code",
   "outputs": [],
   "execution_count": null,
   "source": "",
   "id": "f1e0ad3b64329e10"
  }
 ],
 "metadata": {
  "kernelspec": {
   "display_name": "Python 3 (ipykernel)",
   "name": "python3",
   "language": "python"
  },
  "language_info": {
   "codemirror_mode": {
    "name": "ipython",
    "version": 2
   },
   "file_extension": ".py",
   "mimetype": "text/x-python",
   "name": "python",
   "nbconvert_exporter": "python",
   "pygments_lexer": "ipython2",
   "version": "2.7.6"
  },
  "colab": {
   "provenance": [],
   "gpuType": "A100"
  },
  "accelerator": "GPU"
 },
 "nbformat": 4,
 "nbformat_minor": 5
}
